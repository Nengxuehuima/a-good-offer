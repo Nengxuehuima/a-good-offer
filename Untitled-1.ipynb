{
 "cells": [
  {
   "cell_type": "code",
   "execution_count": 5,
   "metadata": {},
   "outputs": [],
   "source": [
    "ls = []"
   ]
  },
  {
   "cell_type": "code",
   "execution_count": 3,
   "metadata": {},
   "outputs": [],
   "source": [
    "import re\n",
    "import os\n",
    "def process_string(input_str):\n",
    "    # 定义正则表达式\n",
    "    # (\\d+)         : 匹配第一个序号，数字。\n",
    "    # _             : 下划线。\n",
    "    # (\\d+)         : 匹配第二个序号，数字。\n",
    "    # _             : 下划线。\n",
    "    # (.*?)         : 匹配题目部分，可以包含任意字符。\n",
    "    # (_\\d+){2}     : 匹配两个日期部分。\n",
    "    # \\.py$         : 末尾为.py的文件名。\n",
    "    \n",
    "    pattern = r'(\\d+)_(\\d+)_(.*?)(?:_\\d+).*' \n",
    "    \n",
    "    # 使用 re.sub() 替换匹配的字符串\n",
    "    new_str = re.sub(pattern, r'\\1_\\2_\\3.cpp', input_str)\n",
    "    return new_str\n",
    "for i in ls:\n",
    "    # 使用 os.open() 创建文件\n",
    "    # os.O_CREAT：创建文件，如果文件已经存在则不做任何操作。\n",
    "    # os.O_WRONLY：以写入模式打开文件。\n",
    "    # os.O_TRUNC：如果文件已存在，则清空文件内容。\n",
    "    fd = os.open((process_string(i)), os.O_CREAT)"
   ]
  },
  {
   "cell_type": "code",
   "execution_count": 6,
   "metadata": {},
   "outputs": [
    {
     "data": {
      "text/plain": [
       "''"
      ]
     },
     "execution_count": 6,
     "metadata": {},
     "output_type": "execute_result"
    }
   ],
   "source": [
    "'b'[1:]"
   ]
  },
  {
   "cell_type": "code",
   "execution_count": 1,
   "metadata": {},
   "outputs": [],
   "source": [
    "class Solution:\n",
    "    def longestValidParentheses(self, s: str) -> int:\n",
    "        if not s:return 0\n",
    "        n = len(s)\n",
    "        # 状态定义:当前字符结尾最长连续括号\n",
    "        dp = [0 for _ in range(n)]\n",
    "        maxVal = 0\n",
    "        # 第一个不管是哪一个肯定是0\n",
    "        for i in range(1, n): \n",
    "            if s[i] == \")\":\n",
    "                # 防止i - dp[i-1]小于0 越界\n",
    "                # and 之后 减去前一个匹配好了的长度然后去找和当前')'匹配的\"(\"\n",
    "                if i - dp[i-1] >0 and s[i-dp[i-1]-1] == \"(\":\n",
    "                    # 1 直接(括号匹配上了就占2个)+2 \n",
    "                    # 2 被当前括号包围的情况->之前已经匹配过的dp[i-1]\n",
    "                    # 3 当前匹配完之后 之前是否匹配 因为可能被当前的\"(\" 遮挡 ()(())\n",
    "                    dp[i] = 2 + dp[i-1] + (dp[i-dp[i-1]-2] if i-dp[i-1]-2>=0 else 0)\n",
    "                maxVal = max(maxVal, dp[i])\n",
    "        return maxVal"
   ]
  },
  {
   "cell_type": "code",
   "execution_count": 3,
   "metadata": {},
   "outputs": [],
   "source": [
    "s = Solution()"
   ]
  },
  {
   "cell_type": "code",
   "execution_count": 4,
   "metadata": {},
   "outputs": [
    {
     "data": {
      "text/plain": [
       "8"
      ]
     },
     "execution_count": 4,
     "metadata": {},
     "output_type": "execute_result"
    }
   ],
   "source": [
    "s.longestValidParentheses(\"(()))())(\")"
   ]
  },
  {
   "cell_type": "code",
   "execution_count": 1,
   "metadata": {},
   "outputs": [
    {
     "ename": "TypeError",
     "evalue": "can't multiply sequence by non-int of type 'float'",
     "output_type": "error",
     "traceback": [
      "\u001b[1;31m---------------------------------------------------------------------------\u001b[0m",
      "\u001b[1;31mTypeError\u001b[0m                                 Traceback (most recent call last)",
      "Cell \u001b[1;32mIn[1], line 1\u001b[0m\n\u001b[1;32m----> 1\u001b[0m \u001b[43m[\u001b[49m\u001b[38;5;241;43m0\u001b[39;49m\u001b[43m]\u001b[49m\u001b[43m \u001b[49m\u001b[38;5;241;43m*\u001b[39;49m\u001b[43m \u001b[49m\u001b[38;5;241;43m12.0\u001b[39;49m\n",
      "\u001b[1;31mTypeError\u001b[0m: can't multiply sequence by non-int of type 'float'"
     ]
    }
   ],
   "source": [
    "[0] * 12.0"
   ]
  },
  {
   "cell_type": "code",
   "execution_count": null,
   "metadata": {},
   "outputs": [],
   "source": []
  },
  {
   "cell_type": "code",
   "execution_count": null,
   "metadata": {},
   "outputs": [],
   "source": []
  },
  {
   "cell_type": "code",
   "execution_count": 2,
   "metadata": {},
   "outputs": [],
   "source": [
    "a = set('ababababa')"
   ]
  },
  {
   "cell_type": "code",
   "execution_count": 8,
   "metadata": {},
   "outputs": [
    {
     "data": {
      "text/plain": [
       "{'a', 'b'}"
      ]
     },
     "execution_count": 8,
     "metadata": {},
     "output_type": "execute_result"
    }
   ],
   "source": [
    "a"
   ]
  },
  {
   "cell_type": "code",
   "execution_count": 9,
   "metadata": {},
   "outputs": [
    {
     "data": {
      "text/plain": [
       "97"
      ]
     },
     "execution_count": 9,
     "metadata": {},
     "output_type": "execute_result"
    }
   ],
   "source": [
    "ord('a')"
   ]
  },
  {
   "cell_type": "code",
   "execution_count": 10,
   "metadata": {},
   "outputs": [
    {
     "data": {
      "text/plain": [
       "65"
      ]
     },
     "execution_count": 10,
     "metadata": {},
     "output_type": "execute_result"
    }
   ],
   "source": [
    "ord('A')"
   ]
  },
  {
   "cell_type": "code",
   "execution_count": 11,
   "metadata": {},
   "outputs": [],
   "source": [
    "from collections import defaultdict"
   ]
  },
  {
   "cell_type": "code",
   "execution_count": 12,
   "metadata": {},
   "outputs": [],
   "source": [
    "class Solution:\n",
    "    def minWindow(self, s: str, t: str) -> str:\n",
    "        s_len, t_len = len(s),len(t)\n",
    "        if s_len < t_len:\n",
    "            return ''\n",
    "        from collections import defaultdict\n",
    "        ds,dt = defaultdict(int),defaultdict(int)\n",
    "        for i in range(t_len):\n",
    "            dt[t[i]] += 1\n",
    "        left, cnt = 0,0\n",
    "        ans = ''\n",
    "        for right in range(s_len):\n",
    "            # 1 更新ds\n",
    "            ds[s[right]] += 1\n",
    "            # 找到了 就记录 一旦多了 cnt就不能变 因为要记录最短的\n",
    "            if ds[s[right]] <= dt[s[right]]:\n",
    "                cnt += 1\n",
    "            # 2 消除冗余 调整窗口 因为left会移动 所以找的时候不是一直对A或B检查 \n",
    "            # ABAAAAABC ABC 此时自然而然就会被B卡住\n",
    "            while ds[s[left]] > dt[s[left]]:\n",
    "                ds[s[left]] -= 1\n",
    "                left += 1\n",
    "            # 3 更新cnt\n",
    "            if cnt == t_len:\n",
    "                if not ans or len(ans) > right - left + 1:\n",
    "                    ans = s[left:right+1]\n",
    "        return ans"
   ]
  },
  {
   "cell_type": "code",
   "execution_count": 13,
   "metadata": {},
   "outputs": [],
   "source": [
    "s = Solution()"
   ]
  },
  {
   "cell_type": "code",
   "execution_count": 14,
   "metadata": {},
   "outputs": [],
   "source": [
    "s = 'abcabcabcab'"
   ]
  },
  {
   "cell_type": "code",
   "execution_count": 15,
   "metadata": {},
   "outputs": [
    {
     "data": {
      "text/plain": [
       "'abcabcabcab'"
      ]
     },
     "execution_count": 15,
     "metadata": {},
     "output_type": "execute_result"
    }
   ],
   "source": [
    "s"
   ]
  },
  {
   "cell_type": "code",
   "execution_count": 16,
   "metadata": {},
   "outputs": [
    {
     "data": {
      "text/plain": [
       "11"
      ]
     },
     "execution_count": 16,
     "metadata": {},
     "output_type": "execute_result"
    }
   ],
   "source": [
    "s.__len__()"
   ]
  },
  {
   "cell_type": "code",
   "execution_count": 17,
   "metadata": {},
   "outputs": [
    {
     "data": {
      "text/plain": [
       "'abc'"
      ]
     },
     "execution_count": 17,
     "metadata": {},
     "output_type": "execute_result"
    }
   ],
   "source": [
    "s[0:3]"
   ]
  },
  {
   "cell_type": "code",
   "execution_count": 18,
   "metadata": {},
   "outputs": [
    {
     "data": {
      "text/plain": [
       "'abc'"
      ]
     },
     "execution_count": 18,
     "metadata": {},
     "output_type": "execute_result"
    }
   ],
   "source": [
    "s[3:6]"
   ]
  },
  {
   "cell_type": "code",
   "execution_count": 19,
   "metadata": {},
   "outputs": [
    {
     "data": {
      "text/plain": [
       "'abc'"
      ]
     },
     "execution_count": 19,
     "metadata": {},
     "output_type": "execute_result"
    }
   ],
   "source": [
    "s[6:9]"
   ]
  },
  {
   "cell_type": "code",
   "execution_count": 20,
   "metadata": {},
   "outputs": [
    {
     "data": {
      "text/plain": [
       "'ab'"
      ]
     },
     "execution_count": 20,
     "metadata": {},
     "output_type": "execute_result"
    }
   ],
   "source": [
    "s[9:12]"
   ]
  },
  {
   "cell_type": "code",
   "execution_count": 21,
   "metadata": {},
   "outputs": [
    {
     "data": {
      "text/plain": [
       "'ab'"
      ]
     },
     "execution_count": 21,
     "metadata": {},
     "output_type": "execute_result"
    }
   ],
   "source": [
    "s[9:120]"
   ]
  },
  {
   "cell_type": "code",
   "execution_count": 22,
   "metadata": {},
   "outputs": [
    {
     "data": {
      "text/plain": [
       "2"
      ]
     },
     "execution_count": 22,
     "metadata": {},
     "output_type": "execute_result"
    }
   ],
   "source": [
    "len([[1],[1]])"
   ]
  },
  {
   "cell_type": "code",
   "execution_count": 3,
   "metadata": {},
   "outputs": [
    {
     "data": {
      "text/plain": [
       "[[[2, 2, 2], [2, 2, 2]], [[2, 2, 2], [2, 2, 2]], [[2, 2, 2], [2, 2, 2]]]"
      ]
     },
     "execution_count": 3,
     "metadata": {},
     "output_type": "execute_result"
    }
   ],
   "source": [
    "dp = [[[2 for _ in range(3)] for _ in range(2)] for _ in range(2+1)]\n",
    "dp"
   ]
  },
  {
   "cell_type": "code",
   "execution_count": 6,
   "metadata": {},
   "outputs": [
    {
     "data": {
      "text/plain": [
       "6"
      ]
     },
     "execution_count": 6,
     "metadata": {},
     "output_type": "execute_result"
    }
   ],
   "source": [
    "sum(dp[0][0])"
   ]
  },
  {
   "cell_type": "code",
   "execution_count": 23,
   "metadata": {},
   "outputs": [],
   "source": [
    "f = 1"
   ]
  },
  {
   "cell_type": "code",
   "execution_count": 25,
   "metadata": {},
   "outputs": [],
   "source": [
    "from typing import List\n",
    "\n",
    "\n",
    "class Solution:\n",
    "    def rob(self, nums: List[int]) -> int:\n",
    "        if not nums:\n",
    "            return 0\n",
    "        n = len(nums)\n",
    "        if n <= 2:\n",
    "            return max(nums)\n",
    "        dp = [nums[0], nums[1]]\n",
    "        for i in range(2, n):\n",
    "            dp[i] = max(dp[i-1], nums[i]+dp[i-2])\n",
    "        return dp[-1]"
   ]
  },
  {
   "cell_type": "code",
   "execution_count": 26,
   "metadata": {},
   "outputs": [],
   "source": [
    "s = Solution()"
   ]
  },
  {
   "cell_type": "code",
   "execution_count": 27,
   "metadata": {},
   "outputs": [],
   "source": [
    "nums = [1,2,3,1]"
   ]
  },
  {
   "cell_type": "code",
   "execution_count": 3,
   "metadata": {},
   "outputs": [
    {
     "data": {
      "text/plain": [
       "1000000000.0"
      ]
     },
     "execution_count": 3,
     "metadata": {},
     "output_type": "execute_result"
    }
   ],
   "source": [
    "1e9"
   ]
  },
  {
   "cell_type": "code",
   "execution_count": 4,
   "metadata": {},
   "outputs": [],
   "source": [
    "class Solution:\n",
    "    def numDecodings(self, s: str) -> int:\n",
    "        if not s or s[0] == '0':\n",
    "            return 0\n",
    "        n = len(s)\n",
    "        mod = int(1e9) + 7\n",
    "        dp = [0 for _ in range(n)]\n",
    "        if s[0] == '*':\n",
    "            dp[0] = 9\n",
    "        else:\n",
    "            dp[0] = 1\n",
    "        # 每到一个字母都有两个可解码状态 [第一个除外 所以dp[0] = 1]\n",
    "        for i in range(1, n):\n",
    "            # 自己单独就可以解码的状态 n种状态 + 1个字符\n",
    "            if s[i] != '0': \n",
    "                if s[i] != '*':\n",
    "                    dp[i] += dp[i-1]\n",
    "                else:\n",
    "                    dp[i] += dp[i-1] * 9\n",
    "            # 和前面的一个组成解码状态 n-1状态 + 2个字符(组成一个码)\n",
    "            # 均不为 *\n",
    "            # 都是 ** 第一个*不能是0 只能是1和2\n",
    "            if s[i-1] == '*':\n",
    "                if s[i] == '*': # [11, 19], [21, 26]  \n",
    "                    dp[i] += dp[i-2] * 15 if i-2 >= 0 else 15\n",
    "                elif  '0' <= s[i] <= '6':\n",
    "                    # 10 11 12 13 14 15 16\n",
    "                    # 20 21 22 23 24 25 26\n",
    "                    dp[i] += dp[i-2] * 2 if i-2 >= 0 else 2\n",
    "                elif '7' <= s[i] <= '9':\n",
    "                    # 17 18 19\n",
    "                    dp[i] += dp[i-2] if i-2 >= 0 else 1\n",
    "            elif s[i] == '*':\n",
    "                if s[i-1] == '1':\n",
    "                    dp[i] += dp[i-2] * 9 if i-2 >= 0 else 9\n",
    "                elif s[i-1] == '2':\n",
    "                    dp[i] += dp[i-2] * 6 if i-2 >= 0 else 6\n",
    "            elif s[i-1] == '1' or s[i-1] == '2' and s[i] <= '6':\n",
    "                # 前面有可组合的  # i=2时 只有自己\n",
    "                dp[i] += dp[i-2] if i-2 >= 0 else 1\n",
    "            dp[i] %= mod\n",
    "        return dp[-1]"
   ]
  },
  {
   "cell_type": "code",
   "execution_count": 5,
   "metadata": {},
   "outputs": [],
   "source": [
    "s = Solution()"
   ]
  },
  {
   "cell_type": "code",
   "execution_count": 7,
   "metadata": {},
   "outputs": [
    {
     "data": {
      "text/plain": [
       "10"
      ]
     },
     "execution_count": 7,
     "metadata": {},
     "output_type": "execute_result"
    }
   ],
   "source": [
    "s.numDecodings('1*')"
   ]
  }
 ],
 "metadata": {
  "kernelspec": {
   "display_name": "Python 3",
   "language": "python",
   "name": "python3"
  },
  "language_info": {
   "codemirror_mode": {
    "name": "ipython",
    "version": 3
   },
   "file_extension": ".py",
   "mimetype": "text/x-python",
   "name": "python",
   "nbconvert_exporter": "python",
   "pygments_lexer": "ipython3",
   "version": "3.9.11"
  }
 },
 "nbformat": 4,
 "nbformat_minor": 2
}
