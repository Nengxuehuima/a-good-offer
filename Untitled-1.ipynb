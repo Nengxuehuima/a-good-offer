{
 "cells": [
  {
   "cell_type": "code",
   "execution_count": 5,
   "metadata": {},
   "outputs": [],
   "source": [
    "ls = []"
   ]
  },
  {
   "cell_type": "code",
   "execution_count": 3,
   "metadata": {},
   "outputs": [],
   "source": [
    "import re\n",
    "import os\n",
    "def process_string(input_str):\n",
    "    # 定义正则表达式\n",
    "    # (\\d+)         : 匹配第一个序号，数字。\n",
    "    # _             : 下划线。\n",
    "    # (\\d+)         : 匹配第二个序号，数字。\n",
    "    # _             : 下划线。\n",
    "    # (.*?)         : 匹配题目部分，可以包含任意字符。\n",
    "    # (_\\d+){2}     : 匹配两个日期部分。\n",
    "    # \\.py$         : 末尾为.py的文件名。\n",
    "    \n",
    "    pattern = r'(\\d+)_(\\d+)_(.*?)(?:_\\d+).*' \n",
    "    \n",
    "    # 使用 re.sub() 替换匹配的字符串\n",
    "    new_str = re.sub(pattern, r'\\1_\\2_\\3.cpp', input_str)\n",
    "    return new_str\n",
    "for i in ls:\n",
    "    # 使用 os.open() 创建文件\n",
    "    # os.O_CREAT：创建文件，如果文件已经存在则不做任何操作。\n",
    "    # os.O_WRONLY：以写入模式打开文件。\n",
    "    # os.O_TRUNC：如果文件已存在，则清空文件内容。\n",
    "    fd = os.open((process_string(i)), os.O_CREAT)"
   ]
  },
  {
   "cell_type": "code",
   "execution_count": 6,
   "metadata": {},
   "outputs": [
    {
     "data": {
      "text/plain": [
       "''"
      ]
     },
     "execution_count": 6,
     "metadata": {},
     "output_type": "execute_result"
    }
   ],
   "source": [
    "'b'[1:]"
   ]
  },
  {
   "cell_type": "code",
   "execution_count": 1,
   "metadata": {},
   "outputs": [],
   "source": [
    "class Solution:\n",
    "    def longestValidParentheses(self, s: str) -> int:\n",
    "        if not s:return 0\n",
    "        n = len(s)\n",
    "        # 状态定义:当前字符结尾最长连续括号\n",
    "        dp = [0 for _ in range(n)]\n",
    "        maxVal = 0\n",
    "        # 第一个不管是哪一个肯定是0\n",
    "        for i in range(1, n): \n",
    "            if s[i] == \")\":\n",
    "                # 防止i - dp[i-1]小于0 越界\n",
    "                # and 之后 减去前一个匹配好了的长度然后去找和当前')'匹配的\"(\"\n",
    "                if i - dp[i-1] >0 and s[i-dp[i-1]-1] == \"(\":\n",
    "                    # 1 直接(括号匹配上了就占2个)+2 \n",
    "                    # 2 被当前括号包围的情况->之前已经匹配过的dp[i-1]\n",
    "                    # 3 当前匹配完之后 之前是否匹配 因为可能被当前的\"(\" 遮挡 ()(())\n",
    "                    dp[i] = 2 + dp[i-1] + (dp[i-dp[i-1]-2] if i-dp[i-1]-2>=0 else 0)\n",
    "                maxVal = max(maxVal, dp[i])\n",
    "        return maxVal"
   ]
  },
  {
   "cell_type": "code",
   "execution_count": 3,
   "metadata": {},
   "outputs": [],
   "source": [
    "s = Solution()"
   ]
  },
  {
   "cell_type": "code",
   "execution_count": 4,
   "metadata": {},
   "outputs": [
    {
     "data": {
      "text/plain": [
       "8"
      ]
     },
     "execution_count": 4,
     "metadata": {},
     "output_type": "execute_result"
    }
   ],
   "source": [
    "s.longestValidParentheses(\"(()))())(\")"
   ]
  },
  {
   "cell_type": "code",
   "execution_count": 1,
   "metadata": {},
   "outputs": [
    {
     "ename": "TypeError",
     "evalue": "can't multiply sequence by non-int of type 'float'",
     "output_type": "error",
     "traceback": [
      "\u001b[1;31m---------------------------------------------------------------------------\u001b[0m",
      "\u001b[1;31mTypeError\u001b[0m                                 Traceback (most recent call last)",
      "Cell \u001b[1;32mIn[1], line 1\u001b[0m\n\u001b[1;32m----> 1\u001b[0m \u001b[43m[\u001b[49m\u001b[38;5;241;43m0\u001b[39;49m\u001b[43m]\u001b[49m\u001b[43m \u001b[49m\u001b[38;5;241;43m*\u001b[39;49m\u001b[43m \u001b[49m\u001b[38;5;241;43m12.0\u001b[39;49m\n",
      "\u001b[1;31mTypeError\u001b[0m: can't multiply sequence by non-int of type 'float'"
     ]
    }
   ],
   "source": [
    "[0] * 12.0"
   ]
  },
  {
   "cell_type": "code",
   "execution_count": 1,
   "metadata": {},
   "outputs": [],
   "source": [
    "s = '111000001'"
   ]
  },
  {
   "cell_type": "code",
   "execution_count": 4,
   "metadata": {},
   "outputs": [
    {
     "data": {
      "text/plain": [
       "5"
      ]
     },
     "execution_count": 4,
     "metadata": {},
     "output_type": "execute_result"
    }
   ],
   "source": [
    "from collections import Counter\n",
    "\n",
    "\n",
    "Counter(s)['0']"
   ]
  },
  {
   "cell_type": "code",
   "execution_count": 2,
   "metadata": {},
   "outputs": [],
   "source": [
    "a = set('ababababa')"
   ]
  },
  {
   "cell_type": "code",
   "execution_count": 8,
   "metadata": {},
   "outputs": [
    {
     "data": {
      "text/plain": [
       "{'a', 'b'}"
      ]
     },
     "execution_count": 8,
     "metadata": {},
     "output_type": "execute_result"
    }
   ],
   "source": [
    "a"
   ]
  },
  {
   "cell_type": "code",
   "execution_count": 9,
   "metadata": {},
   "outputs": [
    {
     "data": {
      "text/plain": [
       "97"
      ]
     },
     "execution_count": 9,
     "metadata": {},
     "output_type": "execute_result"
    }
   ],
   "source": [
    "ord('a')"
   ]
  },
  {
   "cell_type": "code",
   "execution_count": 10,
   "metadata": {},
   "outputs": [
    {
     "data": {
      "text/plain": [
       "65"
      ]
     },
     "execution_count": 10,
     "metadata": {},
     "output_type": "execute_result"
    }
   ],
   "source": [
    "ord('A')"
   ]
  },
  {
   "cell_type": "code",
   "execution_count": 11,
   "metadata": {},
   "outputs": [],
   "source": [
    "from collections import defaultdict"
   ]
  },
  {
   "cell_type": "code",
   "execution_count": 12,
   "metadata": {},
   "outputs": [],
   "source": [
    "class Solution:\n",
    "    def minWindow(self, s: str, t: str) -> str:\n",
    "        s_len, t_len = len(s),len(t)\n",
    "        if s_len < t_len:\n",
    "            return ''\n",
    "        from collections import defaultdict\n",
    "        ds,dt = defaultdict(int),defaultdict(int)\n",
    "        for i in range(t_len):\n",
    "            dt[t[i]] += 1\n",
    "        left, cnt = 0,0\n",
    "        ans = ''\n",
    "        for right in range(s_len):\n",
    "            # 1 更新ds\n",
    "            ds[s[right]] += 1\n",
    "            # 找到了 就记录 一旦多了 cnt就不能变 因为要记录最短的\n",
    "            if ds[s[right]] <= dt[s[right]]:\n",
    "                cnt += 1\n",
    "            # 2 消除冗余 调整窗口 因为left会移动 所以找的时候不是一直对A或B检查 \n",
    "            # ABAAAAABC ABC 此时自然而然就会被B卡住\n",
    "            while ds[s[left]] > dt[s[left]]:\n",
    "                ds[s[left]] -= 1\n",
    "                left += 1\n",
    "            # 3 更新cnt\n",
    "            if cnt == t_len:\n",
    "                if not ans or len(ans) > right - left + 1:\n",
    "                    ans = s[left:right+1]\n",
    "        return ans"
   ]
  },
  {
   "cell_type": "code",
   "execution_count": 13,
   "metadata": {},
   "outputs": [],
   "source": [
    "s = Solution()"
   ]
  },
  {
   "cell_type": "code",
   "execution_count": 14,
   "metadata": {},
   "outputs": [],
   "source": [
    "s = 'abcabcabcab'"
   ]
  },
  {
   "cell_type": "code",
   "execution_count": 15,
   "metadata": {},
   "outputs": [
    {
     "data": {
      "text/plain": [
       "'abcabcabcab'"
      ]
     },
     "execution_count": 15,
     "metadata": {},
     "output_type": "execute_result"
    }
   ],
   "source": [
    "s"
   ]
  },
  {
   "cell_type": "code",
   "execution_count": 16,
   "metadata": {},
   "outputs": [
    {
     "data": {
      "text/plain": [
       "11"
      ]
     },
     "execution_count": 16,
     "metadata": {},
     "output_type": "execute_result"
    }
   ],
   "source": [
    "s.__len__()"
   ]
  },
  {
   "cell_type": "code",
   "execution_count": 17,
   "metadata": {},
   "outputs": [
    {
     "data": {
      "text/plain": [
       "'abc'"
      ]
     },
     "execution_count": 17,
     "metadata": {},
     "output_type": "execute_result"
    }
   ],
   "source": [
    "s[0:3]"
   ]
  },
  {
   "cell_type": "code",
   "execution_count": 18,
   "metadata": {},
   "outputs": [
    {
     "data": {
      "text/plain": [
       "'abc'"
      ]
     },
     "execution_count": 18,
     "metadata": {},
     "output_type": "execute_result"
    }
   ],
   "source": [
    "s[3:6]"
   ]
  },
  {
   "cell_type": "code",
   "execution_count": 19,
   "metadata": {},
   "outputs": [
    {
     "data": {
      "text/plain": [
       "'abc'"
      ]
     },
     "execution_count": 19,
     "metadata": {},
     "output_type": "execute_result"
    }
   ],
   "source": [
    "s[6:9]"
   ]
  },
  {
   "cell_type": "code",
   "execution_count": 20,
   "metadata": {},
   "outputs": [
    {
     "data": {
      "text/plain": [
       "'ab'"
      ]
     },
     "execution_count": 20,
     "metadata": {},
     "output_type": "execute_result"
    }
   ],
   "source": [
    "s[9:12]"
   ]
  },
  {
   "cell_type": "code",
   "execution_count": 21,
   "metadata": {},
   "outputs": [
    {
     "data": {
      "text/plain": [
       "'ab'"
      ]
     },
     "execution_count": 21,
     "metadata": {},
     "output_type": "execute_result"
    }
   ],
   "source": [
    "s[9:120]"
   ]
  },
  {
   "cell_type": "code",
   "execution_count": 22,
   "metadata": {},
   "outputs": [
    {
     "data": {
      "text/plain": [
       "2"
      ]
     },
     "execution_count": 22,
     "metadata": {},
     "output_type": "execute_result"
    }
   ],
   "source": [
    "len([[1],[1]])"
   ]
  },
  {
   "cell_type": "code",
   "execution_count": 3,
   "metadata": {},
   "outputs": [
    {
     "data": {
      "text/plain": [
       "[[[2, 2, 2], [2, 2, 2]], [[2, 2, 2], [2, 2, 2]], [[2, 2, 2], [2, 2, 2]]]"
      ]
     },
     "execution_count": 3,
     "metadata": {},
     "output_type": "execute_result"
    }
   ],
   "source": [
    "dp = [[[2 for _ in range(3)] for _ in range(2)] for _ in range(2+1)]\n",
    "dp"
   ]
  },
  {
   "cell_type": "code",
   "execution_count": 6,
   "metadata": {},
   "outputs": [
    {
     "data": {
      "text/plain": [
       "6"
      ]
     },
     "execution_count": 6,
     "metadata": {},
     "output_type": "execute_result"
    }
   ],
   "source": [
    "sum(dp[0][0])"
   ]
  },
  {
   "cell_type": "code",
   "execution_count": 23,
   "metadata": {},
   "outputs": [],
   "source": [
    "f = 1"
   ]
  },
  {
   "cell_type": "code",
   "execution_count": 25,
   "metadata": {},
   "outputs": [],
   "source": [
    "from typing import List\n",
    "\n",
    "\n",
    "class Solution:\n",
    "    def rob(self, nums: List[int]) -> int:\n",
    "        if not nums:\n",
    "            return 0\n",
    "        n = len(nums)\n",
    "        if n <= 2:\n",
    "            return max(nums)\n",
    "        dp = [nums[0], nums[1]]\n",
    "        for i in range(2, n):\n",
    "            dp[i] = max(dp[i-1], nums[i]+dp[i-2])\n",
    "        return dp[-1]"
   ]
  },
  {
   "cell_type": "code",
   "execution_count": 26,
   "metadata": {},
   "outputs": [],
   "source": [
    "s = Solution()"
   ]
  },
  {
   "cell_type": "code",
   "execution_count": 27,
   "metadata": {},
   "outputs": [],
   "source": [
    "nums = [1,2,3,1]"
   ]
  },
  {
   "cell_type": "code",
   "execution_count": 3,
   "metadata": {},
   "outputs": [
    {
     "data": {
      "text/plain": [
       "1000000000.0"
      ]
     },
     "execution_count": 3,
     "metadata": {},
     "output_type": "execute_result"
    }
   ],
   "source": [
    "1e9"
   ]
  },
  {
   "cell_type": "code",
   "execution_count": 4,
   "metadata": {},
   "outputs": [],
   "source": [
    "class Solution:\n",
    "    def numDecodings(self, s: str) -> int:\n",
    "        if not s or s[0] == '0':\n",
    "            return 0\n",
    "        n = len(s)\n",
    "        mod = int(1e9) + 7\n",
    "        dp = [0 for _ in range(n)]\n",
    "        if s[0] == '*':\n",
    "            dp[0] = 9\n",
    "        else:\n",
    "            dp[0] = 1\n",
    "        # 每到一个字母都有两个可解码状态 [第一个除外 所以dp[0] = 1]\n",
    "        for i in range(1, n):\n",
    "            # 自己单独就可以解码的状态 n种状态 + 1个字符\n",
    "            if s[i] != '0': \n",
    "                if s[i] != '*':\n",
    "                    dp[i] += dp[i-1]\n",
    "                else:\n",
    "                    dp[i] += dp[i-1] * 9\n",
    "            # 和前面的一个组成解码状态 n-1状态 + 2个字符(组成一个码)\n",
    "            # 均不为 *\n",
    "            # 都是 ** 第一个*不能是0 只能是1和2\n",
    "            if s[i-1] == '*':\n",
    "                if s[i] == '*': # [11, 19], [21, 26]  \n",
    "                    dp[i] += dp[i-2] * 15 if i-2 >= 0 else 15\n",
    "                elif  '0' <= s[i] <= '6':\n",
    "                    # 10 11 12 13 14 15 16\n",
    "                    # 20 21 22 23 24 25 26\n",
    "                    dp[i] += dp[i-2] * 2 if i-2 >= 0 else 2\n",
    "                elif '7' <= s[i] <= '9':\n",
    "                    # 17 18 19\n",
    "                    dp[i] += dp[i-2] if i-2 >= 0 else 1\n",
    "            elif s[i] == '*':\n",
    "                if s[i-1] == '1':\n",
    "                    dp[i] += dp[i-2] * 9 if i-2 >= 0 else 9\n",
    "                elif s[i-1] == '2':\n",
    "                    dp[i] += dp[i-2] * 6 if i-2 >= 0 else 6\n",
    "            elif s[i-1] == '1' or s[i-1] == '2' and s[i] <= '6':\n",
    "                # 前面有可组合的  # i=2时 只有自己\n",
    "                dp[i] += dp[i-2] if i-2 >= 0 else 1\n",
    "            dp[i] %= mod\n",
    "        return dp[-1]"
   ]
  },
  {
   "cell_type": "code",
   "execution_count": 5,
   "metadata": {},
   "outputs": [],
   "source": [
    "s = Solution()"
   ]
  },
  {
   "cell_type": "code",
   "execution_count": 7,
   "metadata": {},
   "outputs": [
    {
     "data": {
      "text/plain": [
       "10"
      ]
     },
     "execution_count": 7,
     "metadata": {},
     "output_type": "execute_result"
    }
   ],
   "source": [
    "s.numDecodings('1*')"
   ]
  },
  {
   "cell_type": "code",
   "execution_count": 5,
   "metadata": {},
   "outputs": [
    {
     "data": {
      "text/plain": [
       "1024"
      ]
     },
     "execution_count": 5,
     "metadata": {},
     "output_type": "execute_result"
    }
   ],
   "source": [
    "1<<10"
   ]
  },
  {
   "cell_type": "code",
   "execution_count": 35,
   "metadata": {},
   "outputs": [],
   "source": [
    "class Solution:\n",
    "    def canIWin(self, maxChoosableInteger: int, desiredTotal: int) -> bool:\n",
    "        # 如果目标为0，当前玩家自动获胜\n",
    "        if desiredTotal == 0:\n",
    "            return True\n",
    "        # 如果所有数字加起来都不足以达到目标，则当前玩家无法获胜\n",
    "        if (maxChoosableInteger * (maxChoosableInteger + 1)) // 2 < desiredTotal:\n",
    "            return False\n",
    "\n",
    "        # 状态总数 2^maxChoosableInteger 1 << 10 = 1k\n",
    "        maxState = 1 << maxChoosableInteger\n",
    "        dp = [-1] * maxState  # dp数组初始化为-1，表示尚未计算的状态\n",
    "\n",
    "        # 状态转移函数\n",
    "        def can_win(state: int, total: int) -> bool:\n",
    "            if dp[state] != -1:  # 已经计算过该状态\n",
    "                # print(\"已经计算过的状态:\", state, \" \", bin(state), ' ', dp[state])\n",
    "                return dp[state]\n",
    "\n",
    "            for i in range(maxChoosableInteger):\n",
    "                 # 0开始 1 << [0:maxChoose] 就是选择每一个数的意思\n",
    "                if not (state & (1 << i)):  # 如果数字 i+1 未被选择\n",
    "                    # 从0开始当然要+1\n",
    "                    newTotal = total + i + 1\n",
    "                    # 更新已经选择数的状态 因为if语句已经判断当前state & (1<<i) == 0了也就是一个0一个1 很明显此时state = 0 state从0开始\n",
    "                    newState = state | (1 << i)\n",
    "                    print(\"newState:\", newState, \"newTotal:\", newTotal)\n",
    "                    if newTotal >= desiredTotal or not can_win(newState, newTotal):\n",
    "                        print(\"记录的state为:\", state, \"newState:\", newState, newTotal)\n",
    "                        dp[state] = True\n",
    "                        return True\n",
    "\n",
    "            dp[state] = False\n",
    "            return False\n",
    "\n",
    "        # 初始状态是没有选择任何数字，且总和为0\n",
    "        return can_win(0, 0)"
   ]
  },
  {
   "cell_type": "code",
   "execution_count": 36,
   "metadata": {},
   "outputs": [],
   "source": [
    "s = Solution()"
   ]
  },
  {
   "cell_type": "markdown",
   "metadata": {},
   "source": [
    "### 1111 此时选择了1234加起来和为10 下一次选择已经产生输赢了 游戏模拟结束"
   ]
  },
  {
   "cell_type": "code",
   "execution_count": 37,
   "metadata": {},
   "outputs": [
    {
     "name": "stdout",
     "output_type": "stream",
     "text": [
      "newState: 1 newTotal: 1\n",
      "newState: 3 newTotal: 3\n",
      "newState: 7 newTotal: 6\n",
      "newState: 15 newTotal: 10\n",
      "newState: 31 newTotal: 15\n",
      "记录的state为: 15 newState: 31 15\n",
      "newState: 23 newTotal: 11\n",
      "记录的state为: 7 newState: 23 11\n",
      "newState: 11 newTotal: 7\n",
      "newState: 15 newTotal: 10\n",
      "newState: 27 newTotal: 12\n",
      "记录的state为: 11 newState: 27 12\n",
      "newState: 19 newTotal: 8\n",
      "newState: 23 newTotal: 11\n",
      "记录的state为: 19 newState: 23 11\n",
      "newState: 35 newTotal: 9\n",
      "newState: 39 newTotal: 12\n",
      "记录的state为: 35 newState: 39 12\n",
      "newState: 67 newTotal: 10\n",
      "newState: 71 newTotal: 13\n",
      "记录的state为: 67 newState: 71 13\n",
      "newState: 131 newTotal: 11\n",
      "记录的state为: 3 newState: 131 11\n",
      "newState: 5 newTotal: 4\n",
      "newState: 7 newTotal: 6\n",
      "newState: 13 newTotal: 8\n",
      "newState: 15 newTotal: 10\n",
      "newState: 29 newTotal: 13\n",
      "记录的state为: 13 newState: 29 13\n",
      "newState: 21 newTotal: 9\n",
      "newState: 23 newTotal: 11\n",
      "记录的state为: 21 newState: 23 11\n",
      "newState: 37 newTotal: 10\n",
      "newState: 39 newTotal: 12\n",
      "记录的state为: 37 newState: 39 12\n",
      "newState: 69 newTotal: 11\n",
      "记录的state为: 5 newState: 69 11\n",
      "newState: 9 newTotal: 5\n",
      "newState: 11 newTotal: 7\n",
      "newState: 13 newTotal: 8\n",
      "newState: 25 newTotal: 10\n",
      "newState: 27 newTotal: 12\n",
      "记录的state为: 25 newState: 27 12\n",
      "newState: 41 newTotal: 11\n",
      "记录的state为: 9 newState: 41 11\n",
      "newState: 17 newTotal: 6\n",
      "newState: 19 newTotal: 8\n",
      "newState: 21 newTotal: 9\n",
      "newState: 25 newTotal: 10\n",
      "newState: 49 newTotal: 12\n",
      "记录的state为: 17 newState: 49 12\n",
      "newState: 33 newTotal: 7\n",
      "newState: 35 newTotal: 9\n",
      "newState: 37 newTotal: 10\n",
      "newState: 41 newTotal: 11\n",
      "记录的state为: 33 newState: 41 11\n",
      "newState: 65 newTotal: 8\n",
      "newState: 67 newTotal: 10\n",
      "newState: 69 newTotal: 11\n",
      "记录的state为: 65 newState: 69 11\n",
      "newState: 129 newTotal: 9\n",
      "newState: 131 newTotal: 11\n",
      "记录的state为: 129 newState: 131 11\n",
      "newState: 257 newTotal: 10\n",
      "newState: 259 newTotal: 12\n",
      "记录的state为: 257 newState: 259 12\n",
      "newState: 513 newTotal: 11\n",
      "记录的state为: 1 newState: 513 11\n",
      "newState: 2 newTotal: 2\n",
      "newState: 3 newTotal: 3\n",
      "newState: 6 newTotal: 5\n",
      "newState: 7 newTotal: 6\n",
      "newState: 14 newTotal: 9\n",
      "newState: 15 newTotal: 10\n",
      "newState: 30 newTotal: 14\n",
      "记录的state为: 14 newState: 30 14\n",
      "newState: 22 newTotal: 10\n",
      "newState: 23 newTotal: 11\n",
      "记录的state为: 22 newState: 23 11\n",
      "newState: 38 newTotal: 11\n",
      "记录的state为: 6 newState: 38 11\n",
      "newState: 10 newTotal: 6\n",
      "newState: 11 newTotal: 7\n",
      "newState: 14 newTotal: 9\n",
      "newState: 26 newTotal: 11\n",
      "记录的state为: 10 newState: 26 11\n",
      "newState: 18 newTotal: 7\n",
      "newState: 19 newTotal: 8\n",
      "newState: 22 newTotal: 10\n",
      "newState: 26 newTotal: 11\n",
      "记录的state为: 18 newState: 26 11\n",
      "newState: 34 newTotal: 8\n",
      "newState: 35 newTotal: 9\n",
      "newState: 38 newTotal: 11\n",
      "记录的state为: 34 newState: 38 11\n",
      "newState: 66 newTotal: 9\n",
      "newState: 67 newTotal: 10\n",
      "newState: 70 newTotal: 12\n",
      "记录的state为: 66 newState: 70 12\n",
      "newState: 130 newTotal: 10\n",
      "newState: 131 newTotal: 11\n",
      "记录的state为: 130 newState: 131 11\n",
      "newState: 258 newTotal: 11\n",
      "记录的state为: 2 newState: 258 11\n",
      "newState: 4 newTotal: 3\n",
      "newState: 5 newTotal: 4\n",
      "newState: 6 newTotal: 5\n",
      "newState: 12 newTotal: 7\n",
      "newState: 13 newTotal: 8\n",
      "newState: 14 newTotal: 9\n",
      "newState: 28 newTotal: 12\n",
      "记录的state为: 12 newState: 28 12\n",
      "newState: 20 newTotal: 8\n",
      "newState: 21 newTotal: 9\n",
      "newState: 22 newTotal: 10\n",
      "newState: 28 newTotal: 12\n",
      "记录的state为: 20 newState: 28 12\n",
      "newState: 36 newTotal: 9\n",
      "newState: 37 newTotal: 10\n",
      "newState: 38 newTotal: 11\n",
      "记录的state为: 36 newState: 38 11\n",
      "newState: 68 newTotal: 10\n",
      "newState: 69 newTotal: 11\n",
      "记录的state为: 68 newState: 69 11\n",
      "newState: 132 newTotal: 11\n",
      "记录的state为: 4 newState: 132 11\n",
      "newState: 8 newTotal: 4\n",
      "newState: 9 newTotal: 5\n",
      "newState: 10 newTotal: 6\n",
      "newState: 12 newTotal: 7\n",
      "newState: 24 newTotal: 9\n",
      "newState: 25 newTotal: 10\n",
      "newState: 26 newTotal: 11\n",
      "记录的state为: 24 newState: 26 11\n",
      "newState: 40 newTotal: 10\n",
      "newState: 41 newTotal: 11\n",
      "记录的state为: 40 newState: 41 11\n",
      "newState: 72 newTotal: 11\n",
      "记录的state为: 8 newState: 72 11\n",
      "newState: 16 newTotal: 5\n",
      "newState: 17 newTotal: 6\n",
      "newState: 18 newTotal: 7\n",
      "newState: 20 newTotal: 8\n",
      "newState: 24 newTotal: 9\n",
      "newState: 48 newTotal: 11\n",
      "记录的state为: 16 newState: 48 11\n",
      "newState: 32 newTotal: 6\n",
      "newState: 33 newTotal: 7\n",
      "newState: 34 newTotal: 8\n",
      "newState: 36 newTotal: 9\n",
      "newState: 40 newTotal: 10\n",
      "newState: 48 newTotal: 11\n",
      "记录的state为: 32 newState: 48 11\n",
      "newState: 64 newTotal: 7\n",
      "newState: 65 newTotal: 8\n",
      "newState: 66 newTotal: 9\n",
      "newState: 68 newTotal: 10\n",
      "newState: 72 newTotal: 11\n",
      "记录的state为: 64 newState: 72 11\n",
      "newState: 128 newTotal: 8\n",
      "newState: 129 newTotal: 9\n",
      "newState: 130 newTotal: 10\n",
      "newState: 132 newTotal: 11\n",
      "记录的state为: 128 newState: 132 11\n",
      "newState: 256 newTotal: 9\n",
      "newState: 257 newTotal: 10\n",
      "newState: 258 newTotal: 11\n",
      "记录的state为: 256 newState: 258 11\n",
      "newState: 512 newTotal: 10\n",
      "newState: 513 newTotal: 11\n",
      "记录的state为: 512 newState: 513 11\n"
     ]
    },
    {
     "data": {
      "text/plain": [
       "False"
      ]
     },
     "execution_count": 37,
     "metadata": {},
     "output_type": "execute_result"
    }
   ],
   "source": [
    "s.canIWin(10, 11)"
   ]
  },
  {
   "cell_type": "code",
   "execution_count": 1,
   "metadata": {},
   "outputs": [
    {
     "data": {
      "text/plain": [
       "1"
      ]
     },
     "execution_count": 1,
     "metadata": {},
     "output_type": "execute_result"
    }
   ],
   "source": [
    "1 << 0"
   ]
  },
  {
   "cell_type": "code",
   "execution_count": 5,
   "metadata": {},
   "outputs": [],
   "source": [
    "nums = [213,23,13,4,67]"
   ]
  },
  {
   "cell_type": "code",
   "execution_count": 3,
   "metadata": {},
   "outputs": [],
   "source": [
    "nums.sort()"
   ]
  },
  {
   "cell_type": "code",
   "execution_count": 4,
   "metadata": {},
   "outputs": [
    {
     "data": {
      "text/plain": [
       "[4, 13, 23, 67, 213]"
      ]
     },
     "execution_count": 4,
     "metadata": {},
     "output_type": "execute_result"
    }
   ],
   "source": [
    "nums"
   ]
  },
  {
   "cell_type": "code",
   "execution_count": 6,
   "metadata": {},
   "outputs": [],
   "source": [
    "nums.sort(reverse=True)"
   ]
  },
  {
   "cell_type": "code",
   "execution_count": 7,
   "metadata": {},
   "outputs": [
    {
     "data": {
      "text/plain": [
       "[213, 67, 23, 13, 4]"
      ]
     },
     "execution_count": 7,
     "metadata": {},
     "output_type": "execute_result"
    }
   ],
   "source": [
    "nums"
   ]
  },
  {
   "cell_type": "code",
   "execution_count": 2,
   "metadata": {},
   "outputs": [
    {
     "data": {
      "text/plain": [
       "1"
      ]
     },
     "execution_count": 2,
     "metadata": {},
     "output_type": "execute_result"
    }
   ],
   "source": [
    "int(3<4)"
   ]
  },
  {
   "cell_type": "code",
   "execution_count": 1,
   "metadata": {},
   "outputs": [
    {
     "data": {
      "text/plain": [
       "18"
      ]
     },
     "execution_count": 1,
     "metadata": {},
     "output_type": "execute_result"
    }
   ],
   "source": [
    "61-44+1"
   ]
  },
  {
   "cell_type": "code",
   "execution_count": 4,
   "metadata": {},
   "outputs": [],
   "source": [
    "ans = []"
   ]
  },
  {
   "cell_type": "code",
   "execution_count": 5,
   "metadata": {},
   "outputs": [
    {
     "name": "stdout",
     "output_type": "stream",
     "text": [
      "ans\n"
     ]
    }
   ],
   "source": [
    "if ans:\n",
    "    print(\"ans\")"
   ]
  },
  {
   "cell_type": "code",
   "execution_count": 6,
   "metadata": {},
   "outputs": [],
   "source": [
    "if ans is None:\n",
    "    print(\"ans is None\")"
   ]
  },
  {
   "cell_type": "code",
   "execution_count": 1,
   "metadata": {},
   "outputs": [
    {
     "data": {
      "text/plain": [
       "True"
      ]
     },
     "execution_count": 1,
     "metadata": {},
     "output_type": "execute_result"
    }
   ],
   "source": [
    "'1'.isdigit()"
   ]
  },
  {
   "cell_type": "code",
   "execution_count": 2,
   "metadata": {},
   "outputs": [],
   "source": [
    "ans = [1,2]"
   ]
  },
  {
   "cell_type": "code",
   "execution_count": 3,
   "metadata": {},
   "outputs": [
    {
     "data": {
      "text/plain": [
       "[2]"
      ]
     },
     "execution_count": 3,
     "metadata": {},
     "output_type": "execute_result"
    }
   ],
   "source": [
    "ans.append(ans.pop() * ans.pop())\n",
    "ans"
   ]
  },
  {
   "cell_type": "code",
   "execution_count": 1,
   "metadata": {},
   "outputs": [],
   "source": [
    "ans = []"
   ]
  },
  {
   "cell_type": "code",
   "execution_count": 2,
   "metadata": {},
   "outputs": [],
   "source": [
    "if ans:\n",
    "    print(\"ans\")"
   ]
  },
  {
   "cell_type": "code",
   "execution_count": 3,
   "metadata": {},
   "outputs": [],
   "source": [
    "ans = [1]"
   ]
  },
  {
   "cell_type": "code",
   "execution_count": 4,
   "metadata": {},
   "outputs": [
    {
     "name": "stdout",
     "output_type": "stream",
     "text": [
      "ans\n"
     ]
    }
   ],
   "source": [
    "if ans:\n",
    "    print(\"ans\")"
   ]
  },
  {
   "cell_type": "code",
   "execution_count": 25,
   "metadata": {},
   "outputs": [],
   "source": [
    "class Solution:\n",
    "    def calculate(self, s: str) -> int:\n",
    "        ans = []\n",
    "        flag = 1\n",
    "        mul, sub = False, False\n",
    "        i = 0\n",
    "        current_number = 0\n",
    "        while i < len(s):\n",
    "            if s[i] == ' ':\n",
    "                i += 1\n",
    "                continue\n",
    "\n",
    "            if s[i].isdigit():\n",
    "                current_number = 0\n",
    "                while i < len(s) and s[i].isdigit():\n",
    "                    current_number = current_number * 10 + int(s[i])\n",
    "                    i += 1\n",
    "                \n",
    "                ans.append(current_number * flag)\n",
    "                flag = 1\n",
    "\n",
    "                if mul:\n",
    "                    ans[-2] = ans[-2] * ans[-1]\n",
    "                    ans.pop()\n",
    "                    mul = False\n",
    "                elif sub:\n",
    "                    ans[-2] = int(ans[-2] / ans[-1])\n",
    "                    ans.pop()\n",
    "                    sub = False\n",
    "\n",
    "                continue\n",
    "            \n",
    "            if s[i] == '+':\n",
    "                flag = 1\n",
    "            elif s[i] == '-':\n",
    "                flag = -1\n",
    "            elif s[i] == '*':\n",
    "                mul = True\n",
    "            elif s[i] == '/':\n",
    "                sub = True\n",
    "            i += 1\n",
    "        \n",
    "        return sum(ans)\n"
   ]
  },
  {
   "cell_type": "code",
   "execution_count": 19,
   "metadata": {},
   "outputs": [],
   "source": [
    "class Solution:\n",
    "    def calculate(self, s: str) -> int:\n",
    "        ans = []\n",
    "        temp = []\n",
    "        flag = 1\n",
    "        mul,sub=False, False\n",
    "        i = 0\n",
    "        while i < len(s):\n",
    "            if s[i] == ' ':\n",
    "                i+=1\n",
    "                continue\n",
    "            if s[i].isdigit():\n",
    "                current_number = 0\n",
    "                while i < len(s) and s[i].isdigit():\n",
    "                    current_number = current_number * 10 + int(s[i])\n",
    "                    i += 1\n",
    "                ans.append(current_number * flag)\n",
    "                flag = 1 #需要重置flag\n",
    "                if temp:\n",
    "                    if mul:\n",
    "                        ans.append(temp.pop() * ans.pop())\n",
    "                        mul = False\n",
    "                    elif sub: #必须if 因为是 else不管如何上面的只要mul是False就一定走这里\n",
    "                        ans.append(int(temp.pop() // ans.pop()))\n",
    "                        sub = False\n",
    "                continue\n",
    "            # 24_10_21不是用i检查\n",
    "            if s[i] == \"+\":\n",
    "                flag = 1\n",
    "            elif s[i] == '-':\n",
    "                flag = -1\n",
    "            elif s[i] == '/':\n",
    "                sub = True\n",
    "                temp.append(ans.pop())\n",
    "            elif s[i] == '*':\n",
    "                mul = True\n",
    "                temp.append(ans.pop())\n",
    "            i+=1\n",
    "        print(ans)\n",
    "        return sum(ans)"
   ]
  },
  {
   "cell_type": "code",
   "execution_count": 26,
   "metadata": {},
   "outputs": [],
   "source": [
    "s = Solution()"
   ]
  },
  {
   "cell_type": "code",
   "execution_count": 27,
   "metadata": {},
   "outputs": [],
   "source": [
    "ss = \"14-3/2\" # 13"
   ]
  },
  {
   "cell_type": "code",
   "execution_count": 29,
   "metadata": {},
   "outputs": [
    {
     "data": {
      "text/plain": [
       "13"
      ]
     },
     "execution_count": 29,
     "metadata": {},
     "output_type": "execute_result"
    }
   ],
   "source": [
    "s.calculate(ss)"
   ]
  },
  {
   "cell_type": "code",
   "execution_count": 30,
   "metadata": {},
   "outputs": [
    {
     "data": {
      "text/plain": [
       "-1.5"
      ]
     },
     "execution_count": 30,
     "metadata": {},
     "output_type": "execute_result"
    }
   ],
   "source": [
    "(-3) / 2"
   ]
  },
  {
   "cell_type": "code",
   "execution_count": 31,
   "metadata": {},
   "outputs": [
    {
     "data": {
      "text/plain": [
       "-2"
      ]
     },
     "execution_count": 31,
     "metadata": {},
     "output_type": "execute_result"
    }
   ],
   "source": [
    "(-3) // 2"
   ]
  },
  {
   "cell_type": "code",
   "execution_count": 32,
   "metadata": {},
   "outputs": [
    {
     "data": {
      "text/plain": [
       "-1"
      ]
     },
     "execution_count": 32,
     "metadata": {},
     "output_type": "execute_result"
    }
   ],
   "source": [
    "int((-3)/2)"
   ]
  },
  {
   "cell_type": "code",
   "execution_count": 1,
   "metadata": {},
   "outputs": [],
   "source": [
    "isPlus = 1"
   ]
  },
  {
   "cell_type": "code",
   "execution_count": 2,
   "metadata": {},
   "outputs": [
    {
     "name": "stdout",
     "output_type": "stream",
     "text": [
      "1\n"
     ]
    }
   ],
   "source": [
    "if isPlus:\n",
    "    print(1)"
   ]
  },
  {
   "cell_type": "code",
   "execution_count": 3,
   "metadata": {},
   "outputs": [],
   "source": [
    "isPlus = 0\n",
    "if isPlus:\n",
    "    print(1)"
   ]
  },
  {
   "cell_type": "code",
   "execution_count": 4,
   "metadata": {},
   "outputs": [
    {
     "data": {
      "text/plain": [
       "7"
      ]
     },
     "execution_count": 4,
     "metadata": {},
     "output_type": "execute_result"
    }
   ],
   "source": [
    "ord('7')- ord('0')"
   ]
  },
  {
   "cell_type": "code",
   "execution_count": 6,
   "metadata": {},
   "outputs": [],
   "source": [
    "class Solution:\n",
    "    def canPlaceFlowers(self, flowerbed, n) -> bool:\n",
    "        if not flowerbed:\n",
    "            return False\n",
    "        if flowerbed[0] == 0:\n",
    "            flowerbed[0] = 1\n",
    "            n -=1\n",
    "        for i in range(len(flowerbed)):\n",
    "            if  flowerbed[i] == 1:\n",
    "                continue\n",
    "            elif i>0 and flowerbed[i] == 0:\n",
    "                if flowerbed[i-1] == 1:\n",
    "                    continue\n",
    "                else:\n",
    "                    n-=1\n",
    "        return n == 0"
   ]
  },
  {
   "cell_type": "code",
   "execution_count": 7,
   "metadata": {},
   "outputs": [],
   "source": [
    "s = Solution()"
   ]
  },
  {
   "cell_type": "code",
   "execution_count": 9,
   "metadata": {},
   "outputs": [
    {
     "data": {
      "text/plain": [
       "False"
      ]
     },
     "execution_count": 9,
     "metadata": {},
     "output_type": "execute_result"
    }
   ],
   "source": [
    "flowerbed = [1,0,0,0,1]\n",
    "n = 2\n",
    "s.canPlaceFlowers(flowerbed, n)"
   ]
  },
  {
   "cell_type": "code",
   "execution_count": null,
   "metadata": {},
   "outputs": [],
   "source": []
  }
 ],
 "metadata": {
  "kernelspec": {
   "display_name": "Python 3",
   "language": "python",
   "name": "python3"
  },
  "language_info": {
   "codemirror_mode": {
    "name": "ipython",
    "version": 3
   },
   "file_extension": ".py",
   "mimetype": "text/x-python",
   "name": "python",
   "nbconvert_exporter": "python",
   "pygments_lexer": "ipython3",
   "version": "3.9.11"
  }
 },
 "nbformat": 4,
 "nbformat_minor": 2
}
