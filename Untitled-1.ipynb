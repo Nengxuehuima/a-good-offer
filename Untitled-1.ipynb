{
 "cells": [
  {
   "cell_type": "code",
   "execution_count": 6,
   "metadata": {},
   "outputs": [
    {
     "data": {
      "text/plain": [
       "''"
      ]
     },
     "execution_count": 6,
     "metadata": {},
     "output_type": "execute_result"
    }
   ],
   "source": [
    "'b'[1:]"
   ]
  },
  {
   "cell_type": "code",
   "execution_count": 7,
   "metadata": {},
   "outputs": [],
   "source": [
    "a = set('ababababa')"
   ]
  },
  {
   "cell_type": "code",
   "execution_count": 8,
   "metadata": {},
   "outputs": [
    {
     "data": {
      "text/plain": [
       "{'a', 'b'}"
      ]
     },
     "execution_count": 8,
     "metadata": {},
     "output_type": "execute_result"
    }
   ],
   "source": [
    "a"
   ]
  },
  {
   "cell_type": "code",
   "execution_count": 9,
   "metadata": {},
   "outputs": [
    {
     "data": {
      "text/plain": [
       "97"
      ]
     },
     "execution_count": 9,
     "metadata": {},
     "output_type": "execute_result"
    }
   ],
   "source": [
    "ord('a')"
   ]
  },
  {
   "cell_type": "code",
   "execution_count": 10,
   "metadata": {},
   "outputs": [
    {
     "data": {
      "text/plain": [
       "65"
      ]
     },
     "execution_count": 10,
     "metadata": {},
     "output_type": "execute_result"
    }
   ],
   "source": [
    "ord('A')"
   ]
  },
  {
   "cell_type": "code",
   "execution_count": 11,
   "metadata": {},
   "outputs": [],
   "source": [
    "from collections import defaultdict"
   ]
  },
  {
   "cell_type": "code",
   "execution_count": 12,
   "metadata": {},
   "outputs": [],
   "source": [
    "class Solution:\n",
    "    def minWindow(self, s: str, t: str) -> str:\n",
    "        s_len, t_len = len(s),len(t)\n",
    "        if s_len < t_len:\n",
    "            return ''\n",
    "        from collections import defaultdict\n",
    "        ds,dt = defaultdict(int),defaultdict(int)\n",
    "        for i in range(t_len):\n",
    "            dt[t[i]] += 1\n",
    "        left, cnt = 0,0\n",
    "        ans = ''\n",
    "        for right in range(s_len):\n",
    "            # 1 更新ds\n",
    "            ds[s[right]] += 1\n",
    "            # 找到了 就记录 一旦多了 cnt就不能变 因为要记录最短的\n",
    "            if ds[s[right]] <= dt[s[right]]:\n",
    "                cnt += 1\n",
    "            # 2 消除冗余 调整窗口 因为left会移动 所以找的时候不是一直对A或B检查 \n",
    "            # ABAAAAABC ABC 此时自然而然就会被B卡住\n",
    "            while ds[s[left]] > dt[s[left]]:\n",
    "                ds[s[left]] -= 1\n",
    "                left += 1\n",
    "            # 3 更新cnt\n",
    "            if cnt == t_len:\n",
    "                if not ans or len(ans) > right - left + 1:\n",
    "                    ans = s[left:right+1]\n",
    "        return ans"
   ]
  },
  {
   "cell_type": "code",
   "execution_count": 13,
   "metadata": {},
   "outputs": [],
   "source": [
    "s = Solution()"
   ]
  },
  {
   "cell_type": "code",
   "execution_count": 14,
   "metadata": {},
   "outputs": [],
   "source": [
    "s = 'abcabcabcab'"
   ]
  },
  {
   "cell_type": "code",
   "execution_count": 15,
   "metadata": {},
   "outputs": [
    {
     "data": {
      "text/plain": [
       "'abcabcabcab'"
      ]
     },
     "execution_count": 15,
     "metadata": {},
     "output_type": "execute_result"
    }
   ],
   "source": [
    "s"
   ]
  },
  {
   "cell_type": "code",
   "execution_count": 16,
   "metadata": {},
   "outputs": [
    {
     "data": {
      "text/plain": [
       "11"
      ]
     },
     "execution_count": 16,
     "metadata": {},
     "output_type": "execute_result"
    }
   ],
   "source": [
    "s.__len__()"
   ]
  },
  {
   "cell_type": "code",
   "execution_count": 17,
   "metadata": {},
   "outputs": [
    {
     "data": {
      "text/plain": [
       "'abc'"
      ]
     },
     "execution_count": 17,
     "metadata": {},
     "output_type": "execute_result"
    }
   ],
   "source": [
    "s[0:3]"
   ]
  },
  {
   "cell_type": "code",
   "execution_count": 18,
   "metadata": {},
   "outputs": [
    {
     "data": {
      "text/plain": [
       "'abc'"
      ]
     },
     "execution_count": 18,
     "metadata": {},
     "output_type": "execute_result"
    }
   ],
   "source": [
    "s[3:6]"
   ]
  },
  {
   "cell_type": "code",
   "execution_count": 19,
   "metadata": {},
   "outputs": [
    {
     "data": {
      "text/plain": [
       "'abc'"
      ]
     },
     "execution_count": 19,
     "metadata": {},
     "output_type": "execute_result"
    }
   ],
   "source": [
    "s[6:9]"
   ]
  },
  {
   "cell_type": "code",
   "execution_count": 20,
   "metadata": {},
   "outputs": [
    {
     "data": {
      "text/plain": [
       "'ab'"
      ]
     },
     "execution_count": 20,
     "metadata": {},
     "output_type": "execute_result"
    }
   ],
   "source": [
    "s[9:12]"
   ]
  },
  {
   "cell_type": "code",
   "execution_count": 21,
   "metadata": {},
   "outputs": [
    {
     "data": {
      "text/plain": [
       "'ab'"
      ]
     },
     "execution_count": 21,
     "metadata": {},
     "output_type": "execute_result"
    }
   ],
   "source": [
    "s[9:120]"
   ]
  },
  {
   "cell_type": "code",
   "execution_count": 22,
   "metadata": {},
   "outputs": [
    {
     "data": {
      "text/plain": [
       "2"
      ]
     },
     "execution_count": 22,
     "metadata": {},
     "output_type": "execute_result"
    }
   ],
   "source": [
    "len([[1],[1]])"
   ]
  },
  {
   "cell_type": "code",
   "execution_count": 23,
   "metadata": {},
   "outputs": [],
   "source": [
    "f = 1"
   ]
  },
  {
   "cell_type": "code",
   "execution_count": 24,
   "metadata": {},
   "outputs": [
    {
     "name": "stdout",
     "output_type": "stream",
     "text": [
      "1\n",
      "这里是偶数:0\n",
      "1\n",
      "这里是偶数:0\n",
      "1\n",
      "这里是偶数:0\n",
      "1\n",
      "这里是偶数:0\n",
      "1\n",
      "这里是偶数:0\n",
      "1\n",
      "这里是偶数:0\n",
      "1\n",
      "这里是偶数:0\n",
      "1\n",
      "这里是偶数:0\n",
      "1\n",
      "这里是偶数:0\n",
      "1\n",
      "这里是偶数:0\n",
      "1\n",
      "这里是偶数:0\n",
      "1\n",
      "这里是偶数:0\n",
      "1\n",
      "这里是偶数:0\n",
      "1\n",
      "这里是偶数:0\n",
      "1\n",
      "这里是偶数:0\n",
      "1\n",
      "这里是偶数:0\n",
      "1\n",
      "这里是偶数:0\n",
      "1\n",
      "这里是偶数:0\n",
      "1\n",
      "这里是偶数:0\n",
      "1\n",
      "这里是偶数:0\n",
      "1\n",
      "这里是偶数:0\n",
      "1\n",
      "这里是偶数:0\n",
      "1\n",
      "这里是偶数:0\n",
      "1\n",
      "这里是偶数:0\n",
      "1\n",
      "这里是偶数:0\n",
      "1\n",
      "这里是偶数:0\n",
      "1\n",
      "这里是偶数:0\n",
      "1\n",
      "这里是偶数:0\n",
      "1\n",
      "这里是偶数:0\n",
      "1\n",
      "这里是偶数:0\n",
      "1\n",
      "这里是偶数:0\n",
      "1\n",
      "这里是偶数:0\n",
      "1\n",
      "这里是偶数:0\n",
      "1\n",
      "这里是偶数:0\n",
      "1\n",
      "这里是偶数:0\n",
      "1\n",
      "这里是偶数:0\n",
      "1\n",
      "这里是偶数:0\n",
      "1\n",
      "这里是偶数:0\n",
      "1\n",
      "这里是偶数:0\n",
      "1\n",
      "这里是偶数:0\n",
      "1\n",
      "这里是偶数:0\n",
      "1\n",
      "这里是偶数:0\n",
      "1\n",
      "这里是偶数:0\n",
      "1\n",
      "这里是偶数:0\n",
      "1\n",
      "这里是偶数:0\n",
      "1\n",
      "这里是偶数:0\n",
      "1\n",
      "这里是偶数:0\n",
      "1\n",
      "这里是偶数:0\n",
      "1\n",
      "这里是偶数:0\n",
      "1\n"
     ]
    }
   ],
   "source": [
    "for i in range(1,100):\n",
    "    if f:\n",
    "        print(f)\n",
    "        f ^= 1\n",
    "    else:\n",
    "        print(f\"这里是偶数:{f}\")\n",
    "        f ^= 1"
   ]
  },
  {
   "cell_type": "code",
   "execution_count": 25,
   "metadata": {},
   "outputs": [],
   "source": [
    "from typing import List\n",
    "\n",
    "\n",
    "class Solution:\n",
    "    def rob(self, nums: List[int]) -> int:\n",
    "        if not nums:\n",
    "            return 0\n",
    "        n = len(nums)\n",
    "        if n <= 2:\n",
    "            return max(nums)\n",
    "        dp = [nums[0], nums[1]]\n",
    "        for i in range(2, n):\n",
    "            dp[i] = max(dp[i-1], nums[i]+dp[i-2])\n",
    "        return dp[-1]"
   ]
  },
  {
   "cell_type": "code",
   "execution_count": 26,
   "metadata": {},
   "outputs": [],
   "source": [
    "s = Solution()"
   ]
  },
  {
   "cell_type": "code",
   "execution_count": 27,
   "metadata": {},
   "outputs": [],
   "source": [
    "nums = [1,2,3,1]"
   ]
  },
  {
   "cell_type": "code",
   "execution_count": 28,
   "metadata": {},
   "outputs": [
    {
     "ename": "IndexError",
     "evalue": "list assignment index out of range",
     "output_type": "error",
     "traceback": [
      "\u001b[1;31m---------------------------------------------------------------------------\u001b[0m",
      "\u001b[1;31mIndexError\u001b[0m                                Traceback (most recent call last)",
      "Cell \u001b[1;32mIn[28], line 1\u001b[0m\n\u001b[1;32m----> 1\u001b[0m \u001b[43ms\u001b[49m\u001b[38;5;241;43m.\u001b[39;49m\u001b[43mrob\u001b[49m\u001b[43m(\u001b[49m\u001b[43mnums\u001b[49m\u001b[43m)\u001b[49m\n",
      "Cell \u001b[1;32mIn[25], line 13\u001b[0m, in \u001b[0;36mSolution.rob\u001b[1;34m(self, nums)\u001b[0m\n\u001b[0;32m     11\u001b[0m dp \u001b[38;5;241m=\u001b[39m [nums[\u001b[38;5;241m0\u001b[39m], nums[\u001b[38;5;241m1\u001b[39m]]\n\u001b[0;32m     12\u001b[0m \u001b[38;5;28;01mfor\u001b[39;00m i \u001b[38;5;129;01min\u001b[39;00m \u001b[38;5;28mrange\u001b[39m(\u001b[38;5;241m2\u001b[39m, n):\n\u001b[1;32m---> 13\u001b[0m     \u001b[43mdp\u001b[49m\u001b[43m[\u001b[49m\u001b[43mi\u001b[49m\u001b[43m]\u001b[49m \u001b[38;5;241m=\u001b[39m \u001b[38;5;28mmax\u001b[39m(dp[i\u001b[38;5;241m-\u001b[39m\u001b[38;5;241m1\u001b[39m], nums[i]\u001b[38;5;241m+\u001b[39mdp[i\u001b[38;5;241m-\u001b[39m\u001b[38;5;241m2\u001b[39m])\n\u001b[0;32m     14\u001b[0m \u001b[38;5;28;01mreturn\u001b[39;00m dp[\u001b[38;5;241m-\u001b[39m\u001b[38;5;241m1\u001b[39m]\n",
      "\u001b[1;31mIndexError\u001b[0m: list assignment index out of range"
     ]
    }
   ],
   "source": [
    "s.rob(nums)"
   ]
  },
  {
   "cell_type": "code",
   "execution_count": null,
   "metadata": {},
   "outputs": [],
   "source": []
  }
 ],
 "metadata": {
  "kernelspec": {
   "display_name": "Python 3",
   "language": "python",
   "name": "python3"
  },
  "language_info": {
   "codemirror_mode": {
    "name": "ipython",
    "version": 3
   },
   "file_extension": ".py",
   "mimetype": "text/x-python",
   "name": "python",
   "nbconvert_exporter": "python",
   "pygments_lexer": "ipython3",
   "version": "3.9.11"
  }
 },
 "nbformat": 4,
 "nbformat_minor": 2
}
