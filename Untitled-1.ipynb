{
 "cells": [
  {
   "cell_type": "code",
   "execution_count": 2,
   "metadata": {},
   "outputs": [
    {
     "name": "stdout",
     "output_type": "stream",
     "text": [
      "99*\n",
      "98*\n",
      "97*\n",
      "96*\n",
      "95*\n",
      "94*\n",
      "93*\n",
      "92*\n",
      "91*\n",
      "90*\n",
      "89*\n",
      "88*\n",
      "87*\n",
      "86*\n",
      "85*\n",
      "84*\n",
      "83*\n"
     ]
    }
   ],
   "source": [
    "count = 1\n",
    "ans = 1\n",
    "for i in range(99, -1,-1):\n",
    "    if count <= 17:\n",
    "        print(\"{:}*\".format(i),end=' ')\n",
    "        ans *= i\n",
    "        count += 1\n",
    "    else:\n",
    "        break\n",
    "print(ans)"
   ]
  },
  {
   "cell_type": "code",
   "execution_count": 1,
   "metadata": {},
   "outputs": [
    {
     "data": {
      "text/plain": [
       "0"
      ]
     },
     "execution_count": 1,
     "metadata": {},
     "output_type": "execute_result"
    }
   ],
   "source": [
    "0 and 1"
   ]
  },
  {
   "cell_type": "code",
   "execution_count": null,
   "metadata": {},
   "outputs": [],
   "source": []
  }
 ],
 "metadata": {
  "kernelspec": {
   "display_name": "Python 3",
   "language": "python",
   "name": "python3"
  },
  "language_info": {
   "codemirror_mode": {
    "name": "ipython",
    "version": 3
   },
   "file_extension": ".py",
   "mimetype": "text/x-python",
   "name": "python",
   "nbconvert_exporter": "python",
   "pygments_lexer": "ipython3",
   "version": "3.9.11"
  }
 },
 "nbformat": 4,
 "nbformat_minor": 2
}
