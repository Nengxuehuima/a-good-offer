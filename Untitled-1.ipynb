{
 "cells": [
  {
   "cell_type": "code",
   "execution_count": 13,
   "metadata": {},
   "outputs": [
    {
     "data": {
      "text/plain": [
       "''"
      ]
     },
     "execution_count": 13,
     "metadata": {},
     "output_type": "execute_result"
    }
   ],
   "source": [
    "'b'[1:]"
   ]
  },
  {
   "cell_type": "code",
   "execution_count": 14,
   "metadata": {},
   "outputs": [],
   "source": [
    "a = set('ababababa')"
   ]
  },
  {
   "cell_type": "code",
   "execution_count": 15,
   "metadata": {},
   "outputs": [
    {
     "data": {
      "text/plain": [
       "{'a', 'b'}"
      ]
     },
     "execution_count": 15,
     "metadata": {},
     "output_type": "execute_result"
    }
   ],
   "source": [
    "a"
   ]
  },
  {
   "cell_type": "code",
   "execution_count": 1,
   "metadata": {},
   "outputs": [
    {
     "data": {
      "text/plain": [
       "97"
      ]
     },
     "execution_count": 1,
     "metadata": {},
     "output_type": "execute_result"
    }
   ],
   "source": [
    "ord('a')"
   ]
  },
  {
   "cell_type": "code",
   "execution_count": 2,
   "metadata": {},
   "outputs": [
    {
     "data": {
      "text/plain": [
       "65"
      ]
     },
     "execution_count": 2,
     "metadata": {},
     "output_type": "execute_result"
    }
   ],
   "source": [
    "ord('A')"
   ]
  },
  {
   "cell_type": "code",
   "execution_count": 1,
   "metadata": {},
   "outputs": [],
   "source": [
    "from collections import defaultdict"
   ]
  },
  {
   "cell_type": "code",
   "execution_count": 20,
   "metadata": {},
   "outputs": [],
   "source": [
    "class Solution:\n",
    "    def minWindow(self, s: str, t: str) -> str:\n",
    "        s_len, t_len = len(s),len(t)\n",
    "        if s_len < t_len:\n",
    "            return ''\n",
    "        from collections import defaultdict\n",
    "        ds,dt = defaultdict(int),defaultdict(int)\n",
    "        for i in range(t_len):\n",
    "            dt[t[i]] += 1\n",
    "        left, cnt = 0,0\n",
    "        ans = ''\n",
    "        for right in range(s_len):\n",
    "            # 1 更新ds\n",
    "            ds[s[right]] += 1\n",
    "            # 找到了 就记录 一旦多了 cnt就不能变 因为要记录最短的\n",
    "            if ds[s[right]] <= dt[s[right]]:\n",
    "                cnt += 1\n",
    "            # 2 消除冗余 调整窗口 因为left会移动 所以找的时候不是一直对A或B检查 \n",
    "            # ABAAAAABC ABC 此时自然而然就会被B卡住\n",
    "            while ds[s[left]] > dt[s[left]]:\n",
    "                ds[s[left]] -= 1\n",
    "                left += 1\n",
    "            # 3 更新cnt\n",
    "            if cnt == t_len:\n",
    "                if not ans or len(ans) > right - left + 1:\n",
    "                    ans = s[left:right+1]\n",
    "        return ans"
   ]
  },
  {
   "cell_type": "code",
   "execution_count": 18,
   "metadata": {},
   "outputs": [],
   "source": [
    "s = Solution()"
   ]
  },
  {
   "cell_type": "code",
   "execution_count": 5,
   "metadata": {},
   "outputs": [],
   "source": [
    "s = 'abcabcabcab'"
   ]
  },
  {
   "cell_type": "code",
   "execution_count": 6,
   "metadata": {},
   "outputs": [
    {
     "data": {
      "text/plain": [
       "'abcabcabcab'"
      ]
     },
     "execution_count": 6,
     "metadata": {},
     "output_type": "execute_result"
    }
   ],
   "source": [
    "s"
   ]
  },
  {
   "cell_type": "code",
   "execution_count": 7,
   "metadata": {},
   "outputs": [
    {
     "data": {
      "text/plain": [
       "11"
      ]
     },
     "execution_count": 7,
     "metadata": {},
     "output_type": "execute_result"
    }
   ],
   "source": [
    "s.__len__()"
   ]
  },
  {
   "cell_type": "code",
   "execution_count": 8,
   "metadata": {},
   "outputs": [
    {
     "data": {
      "text/plain": [
       "'abc'"
      ]
     },
     "execution_count": 8,
     "metadata": {},
     "output_type": "execute_result"
    }
   ],
   "source": [
    "s[0:3]"
   ]
  },
  {
   "cell_type": "code",
   "execution_count": 9,
   "metadata": {},
   "outputs": [
    {
     "data": {
      "text/plain": [
       "'abc'"
      ]
     },
     "execution_count": 9,
     "metadata": {},
     "output_type": "execute_result"
    }
   ],
   "source": [
    "s[3:6]"
   ]
  },
  {
   "cell_type": "code",
   "execution_count": 10,
   "metadata": {},
   "outputs": [
    {
     "data": {
      "text/plain": [
       "'abc'"
      ]
     },
     "execution_count": 10,
     "metadata": {},
     "output_type": "execute_result"
    }
   ],
   "source": [
    "s[6:9]"
   ]
  },
  {
   "cell_type": "code",
   "execution_count": 11,
   "metadata": {},
   "outputs": [
    {
     "data": {
      "text/plain": [
       "'ab'"
      ]
     },
     "execution_count": 11,
     "metadata": {},
     "output_type": "execute_result"
    }
   ],
   "source": [
    "s[9:12]"
   ]
  },
  {
   "cell_type": "code",
   "execution_count": 12,
   "metadata": {},
   "outputs": [
    {
     "data": {
      "text/plain": [
       "'ab'"
      ]
     },
     "execution_count": 12,
     "metadata": {},
     "output_type": "execute_result"
    }
   ],
   "source": [
    "s[9:120]"
   ]
  },
  {
   "cell_type": "code",
   "execution_count": 1,
   "metadata": {},
   "outputs": [
    {
     "data": {
      "text/plain": [
       "2"
      ]
     },
     "execution_count": 1,
     "metadata": {},
     "output_type": "execute_result"
    }
   ],
   "source": [
    "len([[1],[1]])"
   ]
  },
  {
   "cell_type": "code",
   "execution_count": 1,
   "metadata": {},
   "outputs": [],
   "source": [
    "f = 1"
   ]
  },
  {
   "cell_type": "code",
   "execution_count": 4,
   "metadata": {},
   "outputs": [
    {
     "name": "stdout",
     "output_type": "stream",
     "text": [
      "1\n",
      "这里是偶数:0\n",
      "1\n",
      "这里是偶数:0\n",
      "1\n",
      "这里是偶数:0\n",
      "1\n",
      "这里是偶数:0\n",
      "1\n",
      "这里是偶数:0\n",
      "1\n",
      "这里是偶数:0\n",
      "1\n",
      "这里是偶数:0\n",
      "1\n",
      "这里是偶数:0\n",
      "1\n",
      "这里是偶数:0\n",
      "1\n",
      "这里是偶数:0\n",
      "1\n",
      "这里是偶数:0\n",
      "1\n",
      "这里是偶数:0\n",
      "1\n",
      "这里是偶数:0\n",
      "1\n",
      "这里是偶数:0\n",
      "1\n",
      "这里是偶数:0\n",
      "1\n",
      "这里是偶数:0\n",
      "1\n",
      "这里是偶数:0\n",
      "1\n",
      "这里是偶数:0\n",
      "1\n",
      "这里是偶数:0\n",
      "1\n",
      "这里是偶数:0\n",
      "1\n",
      "这里是偶数:0\n",
      "1\n",
      "这里是偶数:0\n",
      "1\n",
      "这里是偶数:0\n",
      "1\n",
      "这里是偶数:0\n",
      "1\n",
      "这里是偶数:0\n",
      "1\n",
      "这里是偶数:0\n",
      "1\n",
      "这里是偶数:0\n",
      "1\n",
      "这里是偶数:0\n",
      "1\n",
      "这里是偶数:0\n",
      "1\n",
      "这里是偶数:0\n",
      "1\n",
      "这里是偶数:0\n",
      "1\n",
      "这里是偶数:0\n",
      "1\n",
      "这里是偶数:0\n",
      "1\n",
      "这里是偶数:0\n",
      "1\n",
      "这里是偶数:0\n",
      "1\n",
      "这里是偶数:0\n",
      "1\n",
      "这里是偶数:0\n",
      "1\n",
      "这里是偶数:0\n",
      "1\n",
      "这里是偶数:0\n",
      "1\n",
      "这里是偶数:0\n",
      "1\n",
      "这里是偶数:0\n",
      "1\n",
      "这里是偶数:0\n",
      "1\n",
      "这里是偶数:0\n",
      "1\n",
      "这里是偶数:0\n",
      "1\n",
      "这里是偶数:0\n",
      "1\n",
      "这里是偶数:0\n",
      "1\n",
      "这里是偶数:0\n",
      "1\n",
      "这里是偶数:0\n",
      "1\n",
      "这里是偶数:0\n",
      "1\n"
     ]
    }
   ],
   "source": [
    "for i in range(1,100):\n",
    "    if f:\n",
    "        print(f)\n",
    "        f ^= 1\n",
    "    else:\n",
    "        print(f\"这里是偶数:{f}\")\n",
    "        f ^= 1"
   ]
  },
  {
   "cell_type": "code",
   "execution_count": null,
   "metadata": {},
   "outputs": [],
   "source": []
  }
 ],
 "metadata": {
  "kernelspec": {
   "display_name": "Python 3",
   "language": "python",
   "name": "python3"
  },
  "language_info": {
   "codemirror_mode": {
    "name": "ipython",
    "version": 3
   },
   "file_extension": ".py",
   "mimetype": "text/x-python",
   "name": "python",
   "nbconvert_exporter": "python",
   "pygments_lexer": "ipython3",
   "version": "3.9.11"
  }
 },
 "nbformat": 4,
 "nbformat_minor": 2
}
