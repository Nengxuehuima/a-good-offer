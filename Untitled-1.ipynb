{
 "cells": [
  {
   "cell_type": "markdown",
   "metadata": {},
   "source": [
    "# ABCDFFABCDE"
   ]
  },
  {
   "cell_type": "markdown",
   "metadata": {},
   "source": [
    "# ABCDE"
   ]
  },
  {
   "cell_type": "code",
   "execution_count": 50,
   "metadata": {},
   "outputs": [
    {
     "data": {
      "text/plain": [
       "[0, 1, 0, 1, 2, 0]"
      ]
     },
     "execution_count": 50,
     "metadata": {},
     "output_type": "execute_result"
    }
   ],
   "source": [
    "def build_next(patt):\n",
    "    next = [0]# next数组（初值元素一个日)prefix_len = #当前共同前后缀的长度i = 1\n",
    "    prefix_len = 0\n",
    "    i = 1\n",
    "    while i < len(patt):\n",
    "        if patt[prefix_len] == patt[i]:\n",
    "            prefix_len += 1\n",
    "            next.append(prefix_len)\n",
    "            i += 1\n",
    "        else:\n",
    "            if prefix_len == 0:\n",
    "                next.append(0)\n",
    "                i += 1\n",
    "            else:\n",
    "                prefix_len = next[prefix_len - 1]\n",
    "    return next\n",
    "a = build_next(\"aabaac\")\n",
    "a"
   ]
  },
  {
   "cell_type": "markdown",
   "metadata": {},
   "source": [
    "# aaaaafaaaaac"
   ]
  },
  {
   "cell_type": "code",
   "execution_count": 51,
   "metadata": {},
   "outputs": [
    {
     "data": {
      "text/plain": [
       "[0, 1, 2, 3, 4, 0]"
      ]
     },
     "execution_count": 51,
     "metadata": {},
     "output_type": "execute_result"
    }
   ],
   "source": [
    "a = build_next(\"aaaaac\")\n",
    "a"
   ]
  },
  {
   "cell_type": "code",
   "execution_count": 52,
   "metadata": {},
   "outputs": [
    {
     "data": {
      "text/plain": [
       "[0, 1, 2, 3, 4, 0, 0, 0, 1, 0, 0, 1, 0, 0, 0, 1, 2, 3, 4, 5, 0]"
      ]
     },
     "execution_count": 52,
     "metadata": {},
     "output_type": "execute_result"
    }
   ],
   "source": [
    "a = build_next(\"aaaaabdsadjasdjaaaaac\")\n",
    "a"
   ]
  },
  {
   "cell_type": "code",
   "execution_count": 53,
   "metadata": {},
   "outputs": [
    {
     "data": {
      "text/plain": [
       "[0, 1, 0, 1, 2, 3, 0, 0, 1, 0, 0, 1, 0, 0, 0, 1, 2, 2, 2, 2, 0]"
      ]
     },
     "execution_count": 53,
     "metadata": {},
     "output_type": "execute_result"
    }
   ],
   "source": [
    "a = build_next(\"aabaabdsadjasdjaaaaac\")\n",
    "a"
   ]
  },
  {
   "cell_type": "code",
   "execution_count": 58,
   "metadata": {},
   "outputs": [],
   "source": [
    "def getnext(a,needle):\n",
    "    next=['' for i in range(a)]\n",
    "    k=-1\n",
    "    next[0]=k\n",
    "    for i in range(1,len(needle)):\n",
    "        while (k>-1 and needle[k+1]!=needle[i]):\n",
    "            k=next[k]\n",
    "        if needle[k+1]==needle[i]:\n",
    "            k+=1\n",
    "        next[i]=k\n",
    "    return next\n"
   ]
  },
  {
   "cell_type": "code",
   "execution_count": 59,
   "metadata": {},
   "outputs": [
    {
     "data": {
      "text/plain": [
       "[-1, 0, -1, 0, 1, 2, -1, -1, 0, -1, -1, 0, -1, -1, -1, 0, 1, 1, 1, 1, -1]"
      ]
     },
     "execution_count": 59,
     "metadata": {},
     "output_type": "execute_result"
    }
   ],
   "source": [
    "a = getnext(len(\"aabaabdsadjasdjaaaaac\"),\"aabaabdsadjasdjaaaaac\")\n",
    "a"
   ]
  },
  {
   "cell_type": "code",
   "execution_count": null,
   "metadata": {},
   "outputs": [],
   "source": []
  }
 ],
 "metadata": {
  "kernelspec": {
   "display_name": "Python 3",
   "language": "python",
   "name": "python3"
  },
  "language_info": {
   "codemirror_mode": {
    "name": "ipython",
    "version": 3
   },
   "file_extension": ".py",
   "mimetype": "text/x-python",
   "name": "python",
   "nbconvert_exporter": "python",
   "pygments_lexer": "ipython3",
   "version": "undefined.undefined.undefined"
  }
 },
 "nbformat": 4,
 "nbformat_minor": 2
}
