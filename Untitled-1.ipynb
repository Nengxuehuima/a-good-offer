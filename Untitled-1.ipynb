{
 "cells": [
  {
   "cell_type": "code",
   "execution_count": 2,
   "metadata": {},
   "outputs": [
    {
     "name": "stdout",
     "output_type": "stream",
     "text": [
      "99* 98* 97* 96* 95* 94* 93* 92* 91* 90* 89* 88* 87* 86* 85* 84* 83* 1963256576640639041095581671424000\n"
     ]
    }
   ],
   "source": [
    "count = 1\n",
    "ans = 1\n",
    "for i in range(99, -1,-1):\n",
    "    if count <= 17:\n",
    "        print(\"{:}*\".format(i),end=' ')\n",
    "        ans *= i\n",
    "        count += 1\n",
    "    else:\n",
    "        break\n",
    "print(ans)"
   ]
  },
  {
   "cell_type": "code",
   "execution_count": 3,
   "metadata": {},
   "outputs": [
    {
     "data": {
      "text/plain": [
       "0"
      ]
     },
     "execution_count": 3,
     "metadata": {},
     "output_type": "execute_result"
    }
   ],
   "source": [
    "0 and 1"
   ]
  },
  {
   "cell_type": "code",
   "execution_count": 4,
   "metadata": {},
   "outputs": [
    {
     "name": "stdout",
     "output_type": "stream",
     "text": [
      "9223372036854775807\n"
     ]
    }
   ],
   "source": [
    "import sys\n",
    "\n",
    "# 获取当前系统上 int 类型的最大值\n",
    "max_int = sys.maxsize\n",
    "print(max_int)"
   ]
  },
  {
   "cell_type": "code",
   "execution_count": 5,
   "metadata": {},
   "outputs": [
    {
     "data": {
      "text/plain": [
       "100000.0"
      ]
     },
     "execution_count": 5,
     "metadata": {},
     "output_type": "execute_result"
    }
   ],
   "source": [
    "1e5"
   ]
  },
  {
   "cell_type": "code",
   "execution_count": 6,
   "metadata": {},
   "outputs": [
    {
     "data": {
      "text/plain": [
       "False"
      ]
     },
     "execution_count": 6,
     "metadata": {},
     "output_type": "execute_result"
    }
   ],
   "source": [
    "[] is None"
   ]
  },
  {
   "cell_type": "code",
   "execution_count": 7,
   "metadata": {},
   "outputs": [
    {
     "data": {
      "text/plain": [
       "5385.69307075"
      ]
     },
     "execution_count": 7,
     "metadata": {},
     "output_type": "execute_result"
    }
   ],
   "source": [
    "21542772283 / 4000000"
   ]
  },
  {
   "cell_type": "code",
   "execution_count": 8,
   "metadata": {},
   "outputs": [
    {
     "data": {
      "text/plain": [
       "4.363408737876157"
      ]
     },
     "execution_count": 8,
     "metadata": {},
     "output_type": "execute_result"
    }
   ],
   "source": [
    "((21542772283 / 4000000) *70)/3600/24"
   ]
  },
  {
   "cell_type": "code",
   "execution_count": 9,
   "metadata": {},
   "outputs": [
    {
     "name": "stdout",
     "output_type": "stream",
     "text": [
      "0.0198\n",
      "0.029105999999999996\n",
      "0.03764376\n",
      "0.045172512\n",
      "0.051496663679999985\n",
      "0.056474674502399985\n",
      "0.060024511185407976\n",
      "0.06212536907689725\n",
      "0.06281565095552945\n",
      "0.06218749444597415\n",
      "0.0603784036984549\n",
      "0.05756074485919368\n",
      "0.05392999018345993\n",
      "0.04969263381190236\n",
      "0.0450546546561248\n",
      "0.040211279280591386\n",
      "0.03533861837953148\n",
      "0.030587537464061138\n",
      "0.02607990036409424\n",
      "0.02190711630583916\n",
      "0.018130746733118316\n",
      "0.01478479983600648\n",
      "0.01187926525953912\n",
      "0.00940441833046847\n",
      "0.007335446297765407\n",
      "0.005637008347282801\n",
      "0.004267424096980017\n",
      "0.0031822791123193835\n",
      "0.0023373291411173404\n",
      "0.0016906680787415428\n",
      "0.0012041919735036536\n",
      "0.000844439621419437\n",
      "0.000582919229573781\n",
      "0.00039604218244571586\n",
      "0.0002647824876922785\n",
      "0.00017416803634869875\n",
      "0.00011269142676183373\n",
      "7.170733418687209e-05\n",
      "4.486305010665844e-05\n",
      "2.759077581559494e-05\n",
      "1.667559572464494e-05\n",
      "9.902127556491544e-06\n",
      "5.775473467832743e-06\n",
      "3.3077711679405717e-06\n",
      "1.8597024566421437e-06\n",
      "1.0260706162951655e-06\n",
      "5.553880101818938e-07\n",
      "2.948184687382219e-07\n",
      "1.5342593781274817e-07\n",
      "7.824722828450156e-08\n",
      "3.9092928954688236e-08\n",
      "1.912546370398594e-08\n",
      "9.158571109569115e-09\n",
      "4.290960168001826e-09\n",
      "1.9660399315208363e-09\n",
      "8.805050264739744e-10\n",
      "3.8525956772387567e-10\n",
      "1.6459882910685586e-10\n",
      "6.862934230557041e-11\n",
      "2.7909265870931972e-11\n",
      "1.1063049979657952e-11\n",
      "4.271764782467926e-12\n",
      "1.6056411118863568e-12\n",
      "5.870625315334492e-13\n",
      "2.0863299197573348e-13\n",
      "7.20099932910183e-14\n",
      "2.4117973872394785e-14\n",
      "7.831247986801129e-15\n",
      "2.462870743675137e-15\n",
      "7.494163834325772e-16\n",
      "2.2039174769115793e-16\n",
      "6.256676837232317e-17\n",
      "1.7124438795602974e-17\n",
      "4.51252103397646e-18\n",
      "1.1431719952740364e-18\n",
      "2.7797129569294987e-19\n",
      "6.476370187963014e-20\n",
      "1.4430681264973994e-20\n",
      "3.0688031044501652e-21\n",
      "6.214326286511584e-22\n",
      "1.195298809183339e-22\n",
      "2.1777761230730584e-23\n",
      "3.7468244623473796e-24\n",
      "6.066287224752902e-25\n",
      "9.206482964624994e-26\n",
      "1.3038949128968888e-26\n",
      "1.714546873970162e-27\n",
      "2.0808364334092415e-28\n",
      "2.314638279859718e-29\n",
      "2.34035648296927e-30\n",
      "2.1294672174709394e-31\n",
      "1.7220908802156285e-32\n",
      "1.2184255905181536e-33\n",
      "7.3883253893122e-35\n",
      "3.733048617757738e-36\n",
      "1.5087738163437537e-37\n",
      "4.572984556753238e-39\n",
      "9.239295328950427e-41\n"
     ]
    }
   ],
   "source": [
    "E = [0] * 100\n",
    "E[0] = 0.01\n",
    "def muti(n):\n",
    "    if n == 1:\n",
    "        return 0.99\n",
    "    elif n> 1:\n",
    "        return muti(n-1)*(1-0.01*n)\n",
    "    else:\n",
    "        print(n)\n",
    "        raise ValueError(\"异常值..\")\n",
    "    \n",
    "for i in range(1,99):\n",
    "    E[i] = (0.01 *(i+1))*(muti(i))\n",
    "    print(E[i])"
   ]
  },
  {
   "cell_type": "code",
   "execution_count": 16,
   "metadata": {},
   "outputs": [
    {
     "name": "stdout",
     "output_type": "stream",
     "text": [
      "15\n",
      "16\n",
      "17\n",
      "18\n",
      "19\n",
      "20\n",
      "21\n",
      "22\n",
      "23\n",
      "24\n",
      "25\n",
      "26\n",
      "27\n",
      "28\n",
      "29\n",
      "30\n",
      "31\n",
      "32\n",
      "33\n",
      "34\n",
      "35\n",
      "36\n",
      "37\n",
      "38\n",
      "39\n",
      "40\n",
      "41\n",
      "42\n",
      "43\n",
      "44\n",
      "45\n",
      "46\n",
      "47\n",
      "48\n",
      "49\n",
      "50\n",
      "51\n",
      "52\n",
      "53\n",
      "54\n",
      "55\n",
      "56\n",
      "57\n",
      "58\n",
      "59\n",
      "60\n",
      "61\n",
      "62\n",
      "63\n",
      "64\n",
      "65\n",
      "66\n",
      "67\n",
      "68\n",
      "69\n",
      "70\n",
      "71\n",
      "72\n",
      "73\n",
      "74\n",
      "75\n",
      "76\n",
      "77\n",
      "78\n",
      "79\n",
      "80\n",
      "81\n",
      "82\n",
      "83\n",
      "84\n",
      "85\n",
      "86\n",
      "87\n",
      "88\n",
      "89\n",
      "90\n",
      "91\n",
      "92\n",
      "93\n",
      "94\n",
      "95\n",
      "96\n",
      "97\n",
      "98\n",
      "99\n",
      "100\n"
     ]
    }
   ],
   "source": [
    "expect = 0\n",
    "index = 0\n",
    "for i in E:\n",
    "    expect+=i\n",
    "    index +=1\n",
    "    if expect > 0.7:\n",
    "        print(index)\n"
   ]
  },
  {
   "cell_type": "code",
   "execution_count": 11,
   "metadata": {},
   "outputs": [
    {
     "data": {
      "text/plain": [
       "100"
      ]
     },
     "execution_count": 11,
     "metadata": {},
     "output_type": "execute_result"
    }
   ],
   "source": [
    "index"
   ]
  },
  {
   "cell_type": "code",
   "execution_count": 12,
   "metadata": {},
   "outputs": [
    {
     "data": {
      "text/plain": [
       "0.9999999999999994"
      ]
     },
     "execution_count": 12,
     "metadata": {},
     "output_type": "execute_result"
    }
   ],
   "source": [
    "sum(E)"
   ]
  },
  {
   "cell_type": "code",
   "execution_count": 13,
   "metadata": {},
   "outputs": [
    {
     "data": {
      "text/plain": [
       "[0.01,\n",
       " 0.0396,\n",
       " 0.08731799999999999,\n",
       " 0.15057504,\n",
       " 0.22586256,\n",
       " 0.3089799820799999,\n",
       " 0.3953227215167999,\n",
       " 0.4801960894832638,\n",
       " 0.5591283216920753,\n",
       " 0.6281565095552945,\n",
       " 0.6840624389057156,\n",
       " 0.7245408443814588,\n",
       " 0.7482896831695178,\n",
       " 0.755019862568439,\n",
       " 0.7453895071785354,\n",
       " 0.7208744744979968,\n",
       " 0.6835917477700536,\n",
       " 0.6360951308315665,\n",
       " 0.5811632118171616,\n",
       " 0.5215980072818848,\n",
       " 0.46004944242262236,\n",
       " 0.39887642812860297,\n",
       " 0.34005039622814903,\n",
       " 0.28510236622893886,\n",
       " 0.23511045826171173,\n",
       " 0.19072160374190059,\n",
       " 0.15219922537663563,\n",
       " 0.11948787471544046,\n",
       " 0.09228609425726213,\n",
       " 0.07011987423352022,\n",
       " 0.05241071044098783,\n",
       " 0.038534143152116916,\n",
       " 0.027866507506841418,\n",
       " 0.019819253805508554,\n",
       " 0.013861476385600055,\n",
       " 0.009532169556922026,\n",
       " 0.006444217344901854,\n",
       " 0.004282274216949681,\n",
       " 0.0027965860332880114,\n",
       " 0.0017945220042663375,\n",
       " 0.0011312218084393924,\n",
       " 0.0007003750204350875,\n",
       " 0.0004257914849291364,\n",
       " 0.0002541208325846407,\n",
       " 0.00014884970255732574,\n",
       " 8.554631300553861e-05,\n",
       " 4.822531896587278e-05,\n",
       " 2.6658624488730904e-05,\n",
       " 1.4446104968172873e-05,\n",
       " 7.671296890637408e-06,\n",
       " 3.9906086425095794e-06,\n",
       " 2.0328323056437883e-06,\n",
       " 1.0136495763112547e-06,\n",
       " 4.945628399167322e-07,\n",
       " 2.360028092401004e-07,\n",
       " 1.1009823616516684e-07,\n",
       " 5.018878650901654e-08,\n",
       " 2.234505492798479e-08,\n",
       " 9.711330917304496e-09,\n",
       " 4.1177605383342245e-09,\n",
       " 1.7024652181268504e-09,\n",
       " 6.859090987387929e-10,\n",
       " 2.6912118129547933e-10,\n",
       " 1.0276103116072684e-10,\n",
       " 3.81590645496742e-11,\n",
       " 1.376977747039841e-11,\n",
       " 4.824669550498227e-12,\n",
       " 1.6400222233228455e-12,\n",
       " 5.403561110892779e-13,\n",
       " 1.7240095205725957e-13,\n",
       " 5.320856322371298e-14,\n",
       " 1.586820583376337e-14,\n",
       " 4.5673740911795916e-15,\n",
       " 1.2672084708746202e-15,\n",
       " 3.3843907754823446e-16,\n",
       " 8.688107164082676e-17,\n",
       " 2.140378976835714e-17,\n",
       " 5.051568746611151e-18,\n",
       " 1.1400238199329455e-18,\n",
       " 2.455042483560132e-19,\n",
       " 5.033604292074383e-20,\n",
       " 9.80145023530338e-21,\n",
       " 1.8075541821506385e-21,\n",
       " 3.147332548371799e-22,\n",
       " 5.1563441410399666e-23,\n",
       " 7.917575349577494e-24,\n",
       " 1.1343885742202932e-24,\n",
       " 1.5088012490937424e-25,\n",
       " 1.851944425734225e-26,\n",
       " 2.0831744518737464e-27,\n",
       " 2.1297243995020354e-28,\n",
       " 1.9591098400732642e-29,\n",
       " 1.6015445186005344e-30,\n",
       " 1.1453200550870645e-31,\n",
       " 7.01890911984659e-33,\n",
       " 3.5837266730474286e-34,\n",
       " 1.4635106018534412e-35,\n",
       " 4.481524865618173e-37,\n",
       " 9.146902375660923e-39,\n",
       " 0]"
      ]
     },
     "execution_count": 13,
     "metadata": {},
     "output_type": "execute_result"
    }
   ],
   "source": [
    "MyE = []\n",
    "for i in range(100):\n",
    "    MyE.append((i+1)*E[i])\n",
    "MyE"
   ]
  },
  {
   "cell_type": "code",
   "execution_count": 14,
   "metadata": {},
   "outputs": [
    {
     "name": "stdout",
     "output_type": "stream",
     "text": [
      "After 1 draws, the probability of red ball is 0.01\n",
      "After 2 draws, the probability of red ball is 0.0198\n",
      "After 3 draws, the probability of red ball is 0.029105999999999996\n",
      "After 4 draws, the probability of red ball is 0.03764376\n",
      "After 5 draws, the probability of red ball is 0.045172512\n",
      "After 6 draws, the probability of red ball is 0.051496663679999985\n",
      "After 7 draws, the probability of red ball is 0.056474674502399985\n",
      "After 8 draws, the probability of red ball is 0.060024511185407976\n",
      "After 9 draws, the probability of red ball is 0.06212536907689725\n",
      "After 10 draws, the probability of red ball is 0.06281565095552945\n",
      "After 11 draws, the probability of red ball is 0.06218749444597415\n",
      "After 12 draws, the probability of red ball is 0.0603784036984549\n",
      "After 13 draws, the probability of red ball is 0.05756074485919368\n",
      "After 14 draws, the probability of red ball is 0.05392999018345993\n",
      "After 15 draws, the probability of red ball is 0.04969263381190236\n",
      "After 16 draws, the probability of red ball is 0.0450546546561248\n",
      "After 17 draws, the probability of red ball is 0.040211279280591386\n",
      "After 18 draws, the probability of red ball is 0.03533861837953148\n",
      "After 19 draws, the probability of red ball is 0.030587537464061138\n",
      "After 20 draws, the probability of red ball is 0.02607990036409424\n",
      "After 21 draws, the probability of red ball is 0.02190711630583916\n",
      "After 22 draws, the probability of red ball is 0.018130746733118316\n",
      "After 23 draws, the probability of red ball is 0.01478479983600648\n",
      "After 24 draws, the probability of red ball is 0.01187926525953912\n",
      "After 25 draws, the probability of red ball is 0.00940441833046847\n",
      "After 26 draws, the probability of red ball is 0.007335446297765407\n",
      "After 27 draws, the probability of red ball is 0.005637008347282801\n",
      "After 28 draws, the probability of red ball is 0.004267424096980017\n",
      "After 29 draws, the probability of red ball is 0.0031822791123193835\n",
      "After 30 draws, the probability of red ball is 0.0023373291411173404\n",
      "After 31 draws, the probability of red ball is 0.0016906680787415428\n",
      "After 32 draws, the probability of red ball is 0.0012041919735036536\n",
      "After 33 draws, the probability of red ball is 0.000844439621419437\n",
      "After 34 draws, the probability of red ball is 0.000582919229573781\n",
      "After 35 draws, the probability of red ball is 0.00039604218244571586\n",
      "After 36 draws, the probability of red ball is 0.0002647824876922785\n",
      "After 37 draws, the probability of red ball is 0.00017416803634869875\n",
      "After 38 draws, the probability of red ball is 0.00011269142676183373\n",
      "After 39 draws, the probability of red ball is 7.170733418687209e-05\n",
      "After 40 draws, the probability of red ball is 4.486305010665844e-05\n",
      "After 41 draws, the probability of red ball is 2.759077581559494e-05\n",
      "After 42 draws, the probability of red ball is 1.667559572464494e-05\n",
      "After 43 draws, the probability of red ball is 9.902127556491544e-06\n",
      "After 44 draws, the probability of red ball is 5.775473467832743e-06\n",
      "After 45 draws, the probability of red ball is 3.3077711679405717e-06\n",
      "After 46 draws, the probability of red ball is 1.8597024566421437e-06\n",
      "After 47 draws, the probability of red ball is 1.0260706162951655e-06\n",
      "After 48 draws, the probability of red ball is 5.553880101818938e-07\n",
      "After 49 draws, the probability of red ball is 2.948184687382219e-07\n",
      "After 50 draws, the probability of red ball is 1.5342593781274817e-07\n",
      "After 51 draws, the probability of red ball is 7.824722828450156e-08\n",
      "After 52 draws, the probability of red ball is 3.9092928954688236e-08\n",
      "After 53 draws, the probability of red ball is 1.912546370398594e-08\n",
      "After 54 draws, the probability of red ball is 9.158571109569115e-09\n",
      "After 55 draws, the probability of red ball is 4.290960168001826e-09\n",
      "After 56 draws, the probability of red ball is 1.9660399315208363e-09\n",
      "After 57 draws, the probability of red ball is 8.805050264739744e-10\n",
      "After 58 draws, the probability of red ball is 3.8525956772387567e-10\n",
      "After 59 draws, the probability of red ball is 1.6459882910685586e-10\n",
      "After 60 draws, the probability of red ball is 6.862934230557041e-11\n",
      "After 61 draws, the probability of red ball is 2.7909265870931972e-11\n",
      "After 62 draws, the probability of red ball is 1.1063049979657952e-11\n",
      "After 63 draws, the probability of red ball is 4.271764782467926e-12\n",
      "After 64 draws, the probability of red ball is 1.6056411118863568e-12\n",
      "After 65 draws, the probability of red ball is 5.870625315334492e-13\n",
      "After 66 draws, the probability of red ball is 2.0863299197573348e-13\n",
      "After 67 draws, the probability of red ball is 7.20099932910183e-14\n",
      "After 68 draws, the probability of red ball is 2.4117973872394785e-14\n",
      "After 69 draws, the probability of red ball is 7.831247986801129e-15\n",
      "After 70 draws, the probability of red ball is 2.462870743675137e-15\n",
      "After 71 draws, the probability of red ball is 7.494163834325772e-16\n",
      "After 72 draws, the probability of red ball is 2.2039174769115793e-16\n",
      "After 73 draws, the probability of red ball is 6.256676837232317e-17\n",
      "After 74 draws, the probability of red ball is 1.7124438795602974e-17\n",
      "After 75 draws, the probability of red ball is 4.51252103397646e-18\n",
      "After 76 draws, the probability of red ball is 1.1431719952740364e-18\n",
      "After 77 draws, the probability of red ball is 2.7797129569294987e-19\n",
      "After 78 draws, the probability of red ball is 6.476370187963014e-20\n",
      "After 79 draws, the probability of red ball is 1.4430681264973994e-20\n",
      "After 80 draws, the probability of red ball is 3.0688031044501652e-21\n",
      "After 81 draws, the probability of red ball is 6.214326286511584e-22\n",
      "After 82 draws, the probability of red ball is 1.195298809183339e-22\n",
      "After 83 draws, the probability of red ball is 2.1777761230730584e-23\n",
      "After 84 draws, the probability of red ball is 3.7468244623473796e-24\n",
      "After 85 draws, the probability of red ball is 6.066287224752902e-25\n",
      "After 86 draws, the probability of red ball is 9.206482964624994e-26\n",
      "After 87 draws, the probability of red ball is 1.3038949128968888e-26\n",
      "After 88 draws, the probability of red ball is 1.714546873970162e-27\n",
      "After 89 draws, the probability of red ball is 2.0808364334092415e-28\n",
      "After 90 draws, the probability of red ball is 2.314638279859718e-29\n",
      "After 91 draws, the probability of red ball is 2.34035648296927e-30\n",
      "After 92 draws, the probability of red ball is 2.1294672174709394e-31\n",
      "After 93 draws, the probability of red ball is 1.7220908802156285e-32\n",
      "After 94 draws, the probability of red ball is 1.2184255905181536e-33\n",
      "After 95 draws, the probability of red ball is 7.3883253893122e-35\n",
      "After 96 draws, the probability of red ball is 3.733048617757738e-36\n",
      "After 97 draws, the probability of red ball is 1.5087738163437537e-37\n",
      "After 98 draws, the probability of red ball is 4.572984556753238e-39\n",
      "After 99 draws, the probability of red ball is 9.239295328950427e-41\n",
      "After 100 draws, the probability of red ball is 0\n"
     ]
    },
    {
     "data": {
      "image/png": "[encoded data removed]",
      "text/plain": [
       "<Figure size 1000x600 with 1 Axes>"
      ]
     },
     "metadata": {},
     "output_type": "display_data"
    }
   ],
   "source": [
    "import matplotlib.pyplot as plt\n",
    "# 打印出概率值以检查\n",
    "for i, prob in enumerate(E):\n",
    "    print(f\"After {i+1} draws, the probability of red ball is {prob}\")\n",
    "\n",
    "# 绘制次数和概率的关系图\n",
    "plt.figure(figsize=(10, 6))\n",
    "plt.plot(range(1, 100 + 1), E, marker='o')\n",
    "plt.title('Number of Draws vs. Probability of Red Ball')\n",
    "plt.xlabel('Number of Draws')\n",
    "plt.ylabel('Probability of Red Ball')\n",
    "plt.grid(True)\n",
    "plt.show()"
   ]
  },
  {
   "cell_type": "code",
   "execution_count": 15,
   "metadata": {},
   "outputs": [
    {
     "data": {
      "text/plain": [
       "0.06281565095552945"
      ]
     },
     "execution_count": 15,
     "metadata": {},
     "output_type": "execute_result"
    }
   ],
   "source": [
    "max(E)"
   ]
  },
  {
   "cell_type": "code",
   "execution_count": 1,
   "metadata": {},
   "outputs": [],
   "source": [
    "from collections import deque"
   ]
  },
  {
   "cell_type": "code",
   "execution_count": 1,
   "metadata": {},
   "outputs": [],
   "source": [
    "ans = []"
   ]
  },
  {
   "cell_type": "code",
   "execution_count": 1,
   "metadata": {},
   "outputs": [
    {
     "data": {
      "text/plain": [
       "1048576"
      ]
     },
     "execution_count": 1,
     "metadata": {},
     "output_type": "execute_result"
    }
   ],
   "source": [
    "1024 * 1024"
   ]
  },
  {
   "cell_type": "code",
   "execution_count": 2,
   "metadata": {},
   "outputs": [
    {
     "data": {
      "text/plain": [
       "718.2027397260274"
      ]
     },
     "execution_count": 2,
     "metadata": {},
     "output_type": "execute_result"
    }
   ],
   "source": [
    "1024 * 1024 / 1460"
   ]
  },
  {
   "cell_type": "code",
   "execution_count": 3,
   "metadata": {},
   "outputs": [
    {
     "data": {
      "text/plain": [
       "143800"
      ]
     },
     "execution_count": 3,
     "metadata": {},
     "output_type": "execute_result"
    }
   ],
   "source": [
    "719 * 200"
   ]
  },
  {
   "cell_type": "code",
   "execution_count": 4,
   "metadata": {},
   "outputs": [
    {
     "data": {
      "text/plain": [
       "143800"
      ]
     },
     "execution_count": 4,
     "metadata": {},
     "output_type": "execute_result"
    }
   ],
   "source": [
    "143800"
   ]
  },
  {
   "cell_type": "code",
   "execution_count": 5,
   "metadata": {},
   "outputs": [
    {
     "data": {
      "text/plain": [
       "8.388608"
      ]
     },
     "execution_count": 5,
     "metadata": {},
     "output_type": "execute_result"
    }
   ],
   "source": [
    "200 * 8388608 / 2e8"
   ]
  },
  {
   "cell_type": "code",
   "execution_count": 8,
   "metadata": {},
   "outputs": [
    {
     "data": {
      "text/plain": [
       "deque(['root_value', 0])"
      ]
     },
     "execution_count": 8,
     "metadata": {},
     "output_type": "execute_result"
    }
   ],
   "source": [
    "from collections import deque\n",
    "\n",
    "root = 'root_value'\n",
    "q = deque([root, 0])\n",
    "q"
   ]
  },
  {
   "cell_type": "code",
   "execution_count": 7,
   "metadata": {},
   "outputs": [
    {
     "data": {
      "text/plain": [
       "deque([['root_value', 0]])"
      ]
     },
     "execution_count": 7,
     "metadata": {},
     "output_type": "execute_result"
    }
   ],
   "source": [
    "q2 = deque()\n",
    "q2.append([root, 0])\n",
    "q2"
   ]
  },
  {
   "cell_type": "code",
   "execution_count": null,
   "metadata": {},
   "outputs": [],
   "source": []
  }
 ],
 "metadata": {
  "kernelspec": {
   "display_name": "Python 3",
   "language": "python",
   "name": "python3"
  },
  "language_info": {
   "codemirror_mode": {
    "name": "ipython",
    "version": 3
   },
   "file_extension": ".py",
   "mimetype": "text/x-python",
   "name": "python",
   "nbconvert_exporter": "python",
   "pygments_lexer": "ipython3",
   "version": "3.9.11"
  }
 },
 "nbformat": 4,
 "nbformat_minor": 2
}
