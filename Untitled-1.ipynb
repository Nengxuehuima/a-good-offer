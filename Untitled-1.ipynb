{
 "cells": [
  {
   "cell_type": "code",
   "execution_count": 1,
   "metadata": {},
   "outputs": [],
   "source": [
    "a = \"abcd\""
   ]
  },
  {
   "cell_type": "code",
   "execution_count": 2,
   "metadata": {},
   "outputs": [
    {
     "data": {
      "text/plain": [
       "'abcdabcdabcdabcd'"
      ]
     },
     "execution_count": 2,
     "metadata": {},
     "output_type": "execute_result"
    }
   ],
   "source": [
    "a += a*3\n",
    "a"
   ]
  },
  {
   "cell_type": "code",
   "execution_count": 4,
   "metadata": {},
   "outputs": [
    {
     "data": {
      "text/plain": [
       "1"
      ]
     },
     "execution_count": 4,
     "metadata": {},
     "output_type": "execute_result"
    }
   ],
   "source": [
    "5//4"
   ]
  },
  {
   "cell_type": "code",
   "execution_count": 7,
   "metadata": {},
   "outputs": [],
   "source": [
    "def build_next(patt):\n",
    "    next = [0]\n",
    "    prefix_len = 0\n",
    "    for i in range(1,len(patt)):\n",
    "        if patt[i] == patt[prefix_len]:\n",
    "            prefix_len+=1\n",
    "            next.append(prefix_len)\n",
    "        else:\n",
    "            while prefix_len > 0 and patt[i] != patt[prefix_len]:\n",
    "                prefix_len = next[prefix_len - 1]\n",
    "            if patt[i] == patt[prefix_len]:\n",
    "                prefix_len += 1\n",
    "            next.append(prefix_len)\n",
    "    return next"
   ]
  },
  {
   "cell_type": "code",
   "execution_count": 22,
   "metadata": {},
   "outputs": [],
   "source": [
    "def build_next(patt):\n",
    "    next = [0]\n",
    "    prefix_len = 0\n",
    "    # 第一个已经确定\n",
    "    i = 1\n",
    "    while i < len(patt):\n",
    "        # 如果该前缀=后缀+1 如果一直想等一直+1 因为前面都是一样的最后都会跳到一个位置\n",
    "        if patt[i] == patt[prefix_len]:\n",
    "            prefix_len+=1\n",
    "            next.append(prefix_len)\n",
    "            i+=1\n",
    "        else:\n",
    "            # 没有相同前缀了\n",
    "            if prefix_len == 0:\n",
    "                next.append(0)\n",
    "                i+=1\n",
    "            else:\n",
    "                # 当前不相等 向前找更短的前缀 next[2-1]即找到更短前缀 比如 aaaaaa 和 aaaaab 此时prefix为4 b!=a 所以需要回退\n",
    "                prefix_len = next[prefix_len-1]\n",
    "    return next"
   ]
  },
  {
   "cell_type": "code",
   "execution_count": 24,
   "metadata": {},
   "outputs": [
    {
     "data": {
      "text/plain": [
       "[0, 1, 2, 0, 0, 0, 1, 2]"
      ]
     },
     "execution_count": 24,
     "metadata": {},
     "output_type": "execute_result"
    }
   ],
   "source": [
    "a = \"aacecaaa\"\n",
    "build_next(a[::-1])"
   ]
  },
  {
   "cell_type": "code",
   "execution_count": 20,
   "metadata": {},
   "outputs": [
    {
     "name": "stdout",
     "output_type": "stream",
     "text": [
      "9\n",
      "8\n",
      "7\n",
      "6\n",
      "5\n",
      "4\n",
      "3\n",
      "2\n",
      "1\n",
      "0\n"
     ]
    }
   ],
   "source": [
    "for i in range(9,-1,-1):\n",
    "    print(i)"
   ]
  },
  {
   "cell_type": "code",
   "execution_count": 21,
   "metadata": {},
   "outputs": [
    {
     "data": {
      "text/plain": [
       "'aabb'"
      ]
     },
     "execution_count": 21,
     "metadata": {},
     "output_type": "execute_result"
    }
   ],
   "source": [
    "a = \"aabbb\"\n",
    "a[:-1]"
   ]
  },
  {
   "cell_type": "code",
   "execution_count": null,
   "metadata": {},
   "outputs": [],
   "source": []
  }
 ],
 "metadata": {
  "kernelspec": {
   "display_name": "Python 3",
   "language": "python",
   "name": "python3"
  },
  "language_info": {
   "codemirror_mode": {
    "name": "ipython",
    "version": 3
   },
   "file_extension": ".py",
   "mimetype": "text/x-python",
   "name": "python",
   "nbconvert_exporter": "python",
   "pygments_lexer": "ipython3",
   "version": "3.9.7"
  }
 },
 "nbformat": 4,
 "nbformat_minor": 2
}
