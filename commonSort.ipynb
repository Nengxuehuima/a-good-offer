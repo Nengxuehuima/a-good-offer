{
 "cells": [
  {
   "cell_type": "code",
   "execution_count": 13,
   "metadata": {},
   "outputs": [],
   "source": [
    "import random"
   ]
  },
  {
   "cell_type": "code",
   "execution_count": 20,
   "metadata": {},
   "outputs": [],
   "source": [
    "def partition(arr, low, high):\n",
    "    pivot = arr[high]  # 选择最后一个元素为基准\n",
    "    i = low - 1\n",
    "    for j in range(low, high):\n",
    "        if arr[j] <= pivot:\n",
    "            i += 1\n",
    "            arr[i], arr[j] = arr[j], arr[i]\n",
    "    arr[i+1], arr[high] = arr[high], arr[i+1]\n",
    "    return i + 1\n",
    "\n",
    "def quick_sort_inplace(arr, low=0, high=None):\n",
    "    if high is None:\n",
    "        high = len(arr) - 1\n",
    "    if low < high:\n",
    "        pi = partition(arr, low, high)\n",
    "        quick_sort_inplace(arr, low, pi-1)\n",
    "        quick_sort_inplace(arr, pi+1, high)"
   ]
  },
  {
   "cell_type": "code",
   "execution_count": 21,
   "metadata": {},
   "outputs": [],
   "source": [
    "def heapify(arr, n, i):\n",
    "    largest = i  # 初始化根节点为最大值\n",
    "    left = 2 * i + 1\n",
    "    right = 2 * i + 2\n",
    "\n",
    "    # 找到左/右子节点中的最大值\n",
    "    if left < n and arr[left] > arr[largest]:\n",
    "        largest = left\n",
    "    if right < n and arr[right] > arr[largest]:\n",
    "        largest = right\n",
    "\n",
    "    # 若最大值不是根节点，交换并递归调整\n",
    "    if largest != i:\n",
    "        arr[i], arr[largest] = arr[largest], arr[i]\n",
    "        heapify(arr, n, largest)\n",
    "\n",
    "def heap_sort(arr):\n",
    "    n = len(arr)\n",
    "    # 构建最大堆（从最后一个非叶子节点开始）\n",
    "    for i in range(n//2 - 1, -1, -1):\n",
    "        heapify(arr, n, i)\n",
    "    # 逐个提取最大值\n",
    "    for i in range(n-1, 0, -1):\n",
    "        arr[i], arr[0] = arr[0], arr[i]  # 交换堆顶和末尾\n",
    "        heapify(arr, i, 0)\n",
    "    return arr"
   ]
  },
  {
   "cell_type": "code",
   "execution_count": 28,
   "metadata": {},
   "outputs": [],
   "source": [
    "def merge_sort_inplace(arr, low=0, high=None):\n",
    "    if high is None:\n",
    "        high = len(arr) - 1\n",
    "    if low < high:\n",
    "        mid = (low + high) // 2\n",
    "        merge_sort_inplace(arr, low, mid)\n",
    "        merge_sort_inplace(arr, mid + 1, high)\n",
    "        merge_inplace(arr, low, mid, high)\n",
    "\n",
    "def merge_inplace(arr, low, mid, high):\n",
    "    left = arr[low:mid+1]\n",
    "    right = arr[mid+1:high+1]\n",
    "    i = j = 0\n",
    "    k = low\n",
    "    # 合并到原数组\n",
    "    while i < len(left) and j < len(right):\n",
    "        if left[i] <= right[j]:\n",
    "            arr[k] = left[i]\n",
    "            i += 1\n",
    "        else:\n",
    "            arr[k] = right[j]\n",
    "            j += 1\n",
    "        k += 1\n",
    "    # 处理剩余元素\n",
    "    while i < len(left):\n",
    "        arr[k] = left[i]\n",
    "        i += 1\n",
    "        k += 1\n",
    "    while j < len(right):\n",
    "        arr[k] = right[j]\n",
    "        j += 1\n",
    "        k += 1"
   ]
  },
  {
   "cell_type": "code",
   "execution_count": 25,
   "metadata": {},
   "outputs": [
    {
     "name": "stdout",
     "output_type": "stream",
     "text": [
      "[92, 45, 32, 59, 46, 3, 6, 84, 29, 58]\n"
     ]
    },
    {
     "data": {
      "text/plain": [
       "[3, 6, 29, 32, 45, 46, 58, 59, 84, 92]"
      ]
     },
     "execution_count": 25,
     "metadata": {},
     "output_type": "execute_result"
    }
   ],
   "source": [
    "arr = [random.randint(0, 100) for _ in range(10)]\n",
    "print(arr)\n",
    "quick_sort_inplace(arr)\n",
    "arr"
   ]
  },
  {
   "cell_type": "code",
   "execution_count": 26,
   "metadata": {},
   "outputs": [
    {
     "name": "stdout",
     "output_type": "stream",
     "text": [
      "[29, 12, 84, 63, 81, 2, 73, 79, 12, 42]\n"
     ]
    },
    {
     "data": {
      "text/plain": [
       "[2, 12, 12, 29, 42, 63, 73, 79, 81, 84]"
      ]
     },
     "execution_count": 26,
     "metadata": {},
     "output_type": "execute_result"
    }
   ],
   "source": [
    "arr = [random.randint(0, 100) for _ in range(10)]\n",
    "print(arr)\n",
    "heap_sort(arr)\n",
    "arr"
   ]
  },
  {
   "cell_type": "code",
   "execution_count": 29,
   "metadata": {},
   "outputs": [
    {
     "name": "stdout",
     "output_type": "stream",
     "text": [
      "[67, 49, 5, 91, 53, 37, 12, 39, 35, 72]\n"
     ]
    },
    {
     "data": {
      "text/plain": [
       "[5, 12, 35, 37, 39, 49, 53, 67, 72, 91]"
      ]
     },
     "execution_count": 29,
     "metadata": {},
     "output_type": "execute_result"
    }
   ],
   "source": [
    "arr = [random.randint(0, 100) for _ in range(10)]\n",
    "print(arr)\n",
    "merge_sort_inplace(arr)\n",
    "arr"
   ]
  },
  {
   "cell_type": "code",
   "execution_count": null,
   "metadata": {},
   "outputs": [],
   "source": []
  }
 ],
 "metadata": {
  "kernelspec": {
   "display_name": "Python 3",
   "language": "python",
   "name": "python3"
  },
  "language_info": {
   "codemirror_mode": {
    "name": "ipython",
    "version": 3
   },
   "file_extension": ".py",
   "mimetype": "text/x-python",
   "name": "python",
   "nbconvert_exporter": "python",
   "pygments_lexer": "ipython3",
   "version": "3.9.11"
  }
 },
 "nbformat": 4,
 "nbformat_minor": 2
}
