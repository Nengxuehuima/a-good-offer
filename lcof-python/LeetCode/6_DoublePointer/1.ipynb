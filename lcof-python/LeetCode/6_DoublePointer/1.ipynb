{
 "cells": [
  {
   "cell_type": "code",
   "execution_count": 1,
   "metadata": {},
   "outputs": [
    {
     "data": {
      "text/plain": [
       "['1.ipynb',\n",
       " '140_345_反转元音字母_7_11.py',\n",
       " '141_680_验证回文串II_7_12.py',\n",
       " '142_167_两数之和II_7_13.py',\n",
       " '143_15_三数之和_7_14.py',\n",
       " '144_16_最接近的三数之和_7_15.py',\n",
       " '145_18_四数之和_7_16.py',\n",
       " '146_11_盛水最多的容器_7_17.py',\n",
       " '147_42_接雨水_7_18.py',\n",
       " '148_27_移除元素_7_19.py',\n",
       " '149_82_删除排序链表中的重复元素 II_7_20.py',\n",
       " '150_611_有效三角形个数_7_21.py',\n",
       " '151_187_重复的DNA序列_7_22.py',\n",
       " '152_643_子数组最大平均数I_7_23.py',\n",
       " '153_674_最长连续递增序列_7_24.py',\n",
       " '154_209_长度最小子数组_7_25.py',\n",
       " '155_3_无重复字符的最长子串_7_26.py',\n",
       " '156_438_找到字符串中的字母异位词_7_27.py',\n",
       " '157_567_字符串的排列_7_28.py',\n",
       " '158_424_替换后的最长重复字符_7_29.py',\n",
       " '159_76_ 最小覆盖子串_7_30.py',\n",
       " '160_30_串联所有单词的子串_7_31.py',\n",
       " '161_141_环形链表_8_1.py',\n",
       " '162_142_环形链表II_8_2.py',\n",
       " '163_143_重排链表_8_3.py',\n",
       " '164_234_回文链表_8_4.py',\n",
       " '165_457_环形数组是否存在循环_8_5.py',\n",
       " '166_86_分隔链表_8_6.py',\n",
       " '167_328_奇偶链表_8_7.py',\n",
       " '168_160_相交链表_8_8.py',\n",
       " '169_88_合并2个有序数组_8_9.py']"
      ]
     },
     "execution_count": 1,
     "metadata": {},
     "output_type": "execute_result"
    }
   ],
   "source": [
    "import os\n",
    "\n",
    "\n",
    "os.listdir()"
   ]
  },
  {
   "cell_type": "code",
   "execution_count": null,
   "metadata": {},
   "outputs": [],
   "source": []
  }
 ],
 "metadata": {
  "kernelspec": {
   "display_name": "Python 3",
   "language": "python",
   "name": "python3"
  },
  "language_info": {
   "codemirror_mode": {
    "name": "ipython",
    "version": 3
   },
   "file_extension": ".py",
   "mimetype": "text/x-python",
   "name": "python",
   "nbconvert_exporter": "python",
   "pygments_lexer": "ipython3",
   "version": "3.9.11"
  }
 },
 "nbformat": 4,
 "nbformat_minor": 2
}
